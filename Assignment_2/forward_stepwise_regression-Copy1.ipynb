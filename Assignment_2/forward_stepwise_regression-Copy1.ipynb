{
 "cells": [
  {
   "cell_type": "markdown",
   "metadata": {},
   "source": [
    "Find the description here:  https://gerardnico.com/data_mining/stepwise_regression"
   ]
  },
  {
   "cell_type": "code",
   "execution_count": 1,
   "metadata": {},
   "outputs": [],
   "source": [
    "import pandas as pd\n",
    "import numpy as np\n",
    "import matplotlib.pyplot as plt\n",
    "from datetime import datetime\n",
    "from scipy import stats\n",
    "from sklearn.metrics import r2_score\n",
    "from sklearn.linear_model import LinearRegression\n",
    "from sklearn.model_selection import train_test_split\n",
    "from sklearn.metrics import mean_squared_error\n",
    "def convertime(datetime_str):\n",
    "    return datetime.strptime(datetime_str, \"%Y%m%dT000000\").timestamp()"
   ]
  },
  {
   "cell_type": "markdown",
   "metadata": {},
   "source": [
    "Exploration of train dataset"
   ]
  },
  {
   "cell_type": "code",
   "execution_count": 2,
   "metadata": {},
   "outputs": [
    {
     "data": {
      "text/html": [
       "<div>\n",
       "<style scoped>\n",
       "    .dataframe tbody tr th:only-of-type {\n",
       "        vertical-align: middle;\n",
       "    }\n",
       "\n",
       "    .dataframe tbody tr th {\n",
       "        vertical-align: top;\n",
       "    }\n",
       "\n",
       "    .dataframe thead th {\n",
       "        text-align: right;\n",
       "    }\n",
       "</style>\n",
       "<table border=\"1\" class=\"dataframe\">\n",
       "  <thead>\n",
       "    <tr style=\"text-align: right;\">\n",
       "      <th></th>\n",
       "      <th>id</th>\n",
       "      <th>date</th>\n",
       "      <th>price</th>\n",
       "      <th>bedrooms</th>\n",
       "      <th>bathrooms</th>\n",
       "      <th>sqft_living</th>\n",
       "      <th>sqft_lot</th>\n",
       "      <th>floors</th>\n",
       "      <th>waterfront</th>\n",
       "      <th>view</th>\n",
       "      <th>...</th>\n",
       "      <th>grade</th>\n",
       "      <th>sqft_above</th>\n",
       "      <th>sqft_basement</th>\n",
       "      <th>yr_built</th>\n",
       "      <th>yr_renovated</th>\n",
       "      <th>zipcode</th>\n",
       "      <th>lat</th>\n",
       "      <th>long</th>\n",
       "      <th>sqft_living15</th>\n",
       "      <th>sqft_lot15</th>\n",
       "    </tr>\n",
       "  </thead>\n",
       "  <tbody>\n",
       "    <tr>\n",
       "      <th>0</th>\n",
       "      <td>7129300520</td>\n",
       "      <td>20141013T000000</td>\n",
       "      <td>221900.0</td>\n",
       "      <td>3</td>\n",
       "      <td>1.00</td>\n",
       "      <td>1180</td>\n",
       "      <td>5650</td>\n",
       "      <td>1.0</td>\n",
       "      <td>0</td>\n",
       "      <td>0</td>\n",
       "      <td>...</td>\n",
       "      <td>7</td>\n",
       "      <td>1180</td>\n",
       "      <td>0</td>\n",
       "      <td>1955</td>\n",
       "      <td>0</td>\n",
       "      <td>98178</td>\n",
       "      <td>47.5112</td>\n",
       "      <td>-122.257</td>\n",
       "      <td>1340</td>\n",
       "      <td>5650</td>\n",
       "    </tr>\n",
       "    <tr>\n",
       "      <th>1</th>\n",
       "      <td>6414100192</td>\n",
       "      <td>20141209T000000</td>\n",
       "      <td>538000.0</td>\n",
       "      <td>3</td>\n",
       "      <td>2.25</td>\n",
       "      <td>2570</td>\n",
       "      <td>7242</td>\n",
       "      <td>2.0</td>\n",
       "      <td>0</td>\n",
       "      <td>0</td>\n",
       "      <td>...</td>\n",
       "      <td>7</td>\n",
       "      <td>2170</td>\n",
       "      <td>400</td>\n",
       "      <td>1951</td>\n",
       "      <td>1991</td>\n",
       "      <td>98125</td>\n",
       "      <td>47.7210</td>\n",
       "      <td>-122.319</td>\n",
       "      <td>1690</td>\n",
       "      <td>7639</td>\n",
       "    </tr>\n",
       "    <tr>\n",
       "      <th>2</th>\n",
       "      <td>5631500400</td>\n",
       "      <td>20150225T000000</td>\n",
       "      <td>180000.0</td>\n",
       "      <td>2</td>\n",
       "      <td>1.00</td>\n",
       "      <td>770</td>\n",
       "      <td>10000</td>\n",
       "      <td>1.0</td>\n",
       "      <td>0</td>\n",
       "      <td>0</td>\n",
       "      <td>...</td>\n",
       "      <td>6</td>\n",
       "      <td>770</td>\n",
       "      <td>0</td>\n",
       "      <td>1933</td>\n",
       "      <td>0</td>\n",
       "      <td>98028</td>\n",
       "      <td>47.7379</td>\n",
       "      <td>-122.233</td>\n",
       "      <td>2720</td>\n",
       "      <td>8062</td>\n",
       "    </tr>\n",
       "    <tr>\n",
       "      <th>3</th>\n",
       "      <td>2487200875</td>\n",
       "      <td>20141209T000000</td>\n",
       "      <td>604000.0</td>\n",
       "      <td>4</td>\n",
       "      <td>3.00</td>\n",
       "      <td>1960</td>\n",
       "      <td>5000</td>\n",
       "      <td>1.0</td>\n",
       "      <td>0</td>\n",
       "      <td>0</td>\n",
       "      <td>...</td>\n",
       "      <td>7</td>\n",
       "      <td>1050</td>\n",
       "      <td>910</td>\n",
       "      <td>1965</td>\n",
       "      <td>0</td>\n",
       "      <td>98136</td>\n",
       "      <td>47.5208</td>\n",
       "      <td>-122.393</td>\n",
       "      <td>1360</td>\n",
       "      <td>5000</td>\n",
       "    </tr>\n",
       "    <tr>\n",
       "      <th>4</th>\n",
       "      <td>1954400510</td>\n",
       "      <td>20150218T000000</td>\n",
       "      <td>510000.0</td>\n",
       "      <td>3</td>\n",
       "      <td>2.00</td>\n",
       "      <td>1680</td>\n",
       "      <td>8080</td>\n",
       "      <td>1.0</td>\n",
       "      <td>0</td>\n",
       "      <td>0</td>\n",
       "      <td>...</td>\n",
       "      <td>8</td>\n",
       "      <td>1680</td>\n",
       "      <td>0</td>\n",
       "      <td>1987</td>\n",
       "      <td>0</td>\n",
       "      <td>98074</td>\n",
       "      <td>47.6168</td>\n",
       "      <td>-122.045</td>\n",
       "      <td>1800</td>\n",
       "      <td>7503</td>\n",
       "    </tr>\n",
       "  </tbody>\n",
       "</table>\n",
       "<p>5 rows × 21 columns</p>\n",
       "</div>"
      ],
      "text/plain": [
       "           id             date     price  bedrooms  bathrooms  sqft_living  \\\n",
       "0  7129300520  20141013T000000  221900.0         3       1.00         1180   \n",
       "1  6414100192  20141209T000000  538000.0         3       2.25         2570   \n",
       "2  5631500400  20150225T000000  180000.0         2       1.00          770   \n",
       "3  2487200875  20141209T000000  604000.0         4       3.00         1960   \n",
       "4  1954400510  20150218T000000  510000.0         3       2.00         1680   \n",
       "\n",
       "   sqft_lot  floors  waterfront  view  ...  grade  sqft_above  sqft_basement  \\\n",
       "0      5650     1.0           0     0  ...      7        1180              0   \n",
       "1      7242     2.0           0     0  ...      7        2170            400   \n",
       "2     10000     1.0           0     0  ...      6         770              0   \n",
       "3      5000     1.0           0     0  ...      7        1050            910   \n",
       "4      8080     1.0           0     0  ...      8        1680              0   \n",
       "\n",
       "   yr_built  yr_renovated  zipcode      lat     long  sqft_living15  \\\n",
       "0      1955             0    98178  47.5112 -122.257           1340   \n",
       "1      1951          1991    98125  47.7210 -122.319           1690   \n",
       "2      1933             0    98028  47.7379 -122.233           2720   \n",
       "3      1965             0    98136  47.5208 -122.393           1360   \n",
       "4      1987             0    98074  47.6168 -122.045           1800   \n",
       "\n",
       "   sqft_lot15  \n",
       "0        5650  \n",
       "1        7639  \n",
       "2        8062  \n",
       "3        5000  \n",
       "4        7503  \n",
       "\n",
       "[5 rows x 21 columns]"
      ]
     },
     "execution_count": 2,
     "metadata": {},
     "output_type": "execute_result"
    }
   ],
   "source": [
    "train = pd.read_csv('kc_house_train_data.csv')\n",
    "train.head()"
   ]
  },
  {
   "cell_type": "code",
   "execution_count": 3,
   "metadata": {},
   "outputs": [
    {
     "data": {
      "text/plain": [
       "(17384, 21)"
      ]
     },
     "execution_count": 3,
     "metadata": {},
     "output_type": "execute_result"
    }
   ],
   "source": [
    "train.shape"
   ]
  },
  {
   "cell_type": "code",
   "execution_count": 4,
   "metadata": {},
   "outputs": [
    {
     "data": {
      "text/plain": [
       "Index(['id', 'date', 'price', 'bedrooms', 'bathrooms', 'sqft_living',\n",
       "       'sqft_lot', 'floors', 'waterfront', 'view', 'condition', 'grade',\n",
       "       'sqft_above', 'sqft_basement', 'yr_built', 'yr_renovated', 'zipcode',\n",
       "       'lat', 'long', 'sqft_living15', 'sqft_lot15'],\n",
       "      dtype='object')"
      ]
     },
     "execution_count": 4,
     "metadata": {},
     "output_type": "execute_result"
    }
   ],
   "source": [
    "train.columns"
   ]
  },
  {
   "cell_type": "code",
   "execution_count": 5,
   "metadata": {},
   "outputs": [
    {
     "name": "stdout",
     "output_type": "stream",
     "text": [
      "<class 'pandas.core.frame.DataFrame'>\n",
      "RangeIndex: 17384 entries, 0 to 17383\n",
      "Data columns (total 21 columns):\n",
      "id               17384 non-null int64\n",
      "date             17384 non-null object\n",
      "price            17384 non-null float64\n",
      "bedrooms         17384 non-null int64\n",
      "bathrooms        17384 non-null float64\n",
      "sqft_living      17384 non-null int64\n",
      "sqft_lot         17384 non-null int64\n",
      "floors           17384 non-null float64\n",
      "waterfront       17384 non-null int64\n",
      "view             17384 non-null int64\n",
      "condition        17384 non-null int64\n",
      "grade            17384 non-null int64\n",
      "sqft_above       17384 non-null int64\n",
      "sqft_basement    17384 non-null int64\n",
      "yr_built         17384 non-null int64\n",
      "yr_renovated     17384 non-null int64\n",
      "zipcode          17384 non-null int64\n",
      "lat              17384 non-null float64\n",
      "long             17384 non-null float64\n",
      "sqft_living15    17384 non-null int64\n",
      "sqft_lot15       17384 non-null int64\n",
      "dtypes: float64(5), int64(15), object(1)\n",
      "memory usage: 2.8+ MB\n"
     ]
    }
   ],
   "source": [
    "train.info()"
   ]
  },
  {
   "cell_type": "code",
   "execution_count": 6,
   "metadata": {},
   "outputs": [
    {
     "data": {
      "text/html": [
       "<div>\n",
       "<style scoped>\n",
       "    .dataframe tbody tr th:only-of-type {\n",
       "        vertical-align: middle;\n",
       "    }\n",
       "\n",
       "    .dataframe tbody tr th {\n",
       "        vertical-align: top;\n",
       "    }\n",
       "\n",
       "    .dataframe thead th {\n",
       "        text-align: right;\n",
       "    }\n",
       "</style>\n",
       "<table border=\"1\" class=\"dataframe\">\n",
       "  <thead>\n",
       "    <tr style=\"text-align: right;\">\n",
       "      <th></th>\n",
       "      <th>id</th>\n",
       "      <th>price</th>\n",
       "      <th>bedrooms</th>\n",
       "      <th>bathrooms</th>\n",
       "      <th>sqft_living</th>\n",
       "      <th>sqft_lot</th>\n",
       "      <th>floors</th>\n",
       "      <th>waterfront</th>\n",
       "      <th>view</th>\n",
       "      <th>condition</th>\n",
       "      <th>grade</th>\n",
       "      <th>sqft_above</th>\n",
       "      <th>sqft_basement</th>\n",
       "      <th>yr_built</th>\n",
       "      <th>yr_renovated</th>\n",
       "      <th>zipcode</th>\n",
       "      <th>lat</th>\n",
       "      <th>long</th>\n",
       "      <th>sqft_living15</th>\n",
       "      <th>sqft_lot15</th>\n",
       "    </tr>\n",
       "  </thead>\n",
       "  <tbody>\n",
       "    <tr>\n",
       "      <th>count</th>\n",
       "      <td>1.738400e+04</td>\n",
       "      <td>1.738400e+04</td>\n",
       "      <td>17384.000000</td>\n",
       "      <td>17384.000000</td>\n",
       "      <td>17384.000000</td>\n",
       "      <td>1.738400e+04</td>\n",
       "      <td>17384.000000</td>\n",
       "      <td>17384.000000</td>\n",
       "      <td>17384.000000</td>\n",
       "      <td>17384.000000</td>\n",
       "      <td>17384.000000</td>\n",
       "      <td>17384.000000</td>\n",
       "      <td>17384.000000</td>\n",
       "      <td>17384.000000</td>\n",
       "      <td>17384.000000</td>\n",
       "      <td>17384.000000</td>\n",
       "      <td>17384.000000</td>\n",
       "      <td>17384.000000</td>\n",
       "      <td>17384.000000</td>\n",
       "      <td>17384.000000</td>\n",
       "    </tr>\n",
       "    <tr>\n",
       "      <th>mean</th>\n",
       "      <td>4.574349e+09</td>\n",
       "      <td>5.393666e+05</td>\n",
       "      <td>3.369363</td>\n",
       "      <td>2.115048</td>\n",
       "      <td>2080.029510</td>\n",
       "      <td>1.509191e+04</td>\n",
       "      <td>1.494248</td>\n",
       "      <td>0.007651</td>\n",
       "      <td>0.236079</td>\n",
       "      <td>3.410780</td>\n",
       "      <td>7.655028</td>\n",
       "      <td>1787.844512</td>\n",
       "      <td>292.184998</td>\n",
       "      <td>1971.152727</td>\n",
       "      <td>83.107973</td>\n",
       "      <td>98077.936896</td>\n",
       "      <td>47.559313</td>\n",
       "      <td>-122.213281</td>\n",
       "      <td>1985.994995</td>\n",
       "      <td>12776.380867</td>\n",
       "    </tr>\n",
       "    <tr>\n",
       "      <th>std</th>\n",
       "      <td>2.872356e+09</td>\n",
       "      <td>3.696912e+05</td>\n",
       "      <td>0.906468</td>\n",
       "      <td>0.771783</td>\n",
       "      <td>921.630888</td>\n",
       "      <td>4.145927e+04</td>\n",
       "      <td>0.539443</td>\n",
       "      <td>0.087136</td>\n",
       "      <td>0.768008</td>\n",
       "      <td>0.649792</td>\n",
       "      <td>1.169818</td>\n",
       "      <td>827.107595</td>\n",
       "      <td>444.404136</td>\n",
       "      <td>29.328722</td>\n",
       "      <td>398.692283</td>\n",
       "      <td>53.525617</td>\n",
       "      <td>0.138703</td>\n",
       "      <td>0.140906</td>\n",
       "      <td>686.512835</td>\n",
       "      <td>27175.730523</td>\n",
       "    </tr>\n",
       "    <tr>\n",
       "      <th>min</th>\n",
       "      <td>1.000102e+06</td>\n",
       "      <td>7.500000e+04</td>\n",
       "      <td>0.000000</td>\n",
       "      <td>0.000000</td>\n",
       "      <td>290.000000</td>\n",
       "      <td>5.200000e+02</td>\n",
       "      <td>1.000000</td>\n",
       "      <td>0.000000</td>\n",
       "      <td>0.000000</td>\n",
       "      <td>1.000000</td>\n",
       "      <td>1.000000</td>\n",
       "      <td>290.000000</td>\n",
       "      <td>0.000000</td>\n",
       "      <td>1900.000000</td>\n",
       "      <td>0.000000</td>\n",
       "      <td>98001.000000</td>\n",
       "      <td>47.159300</td>\n",
       "      <td>-122.519000</td>\n",
       "      <td>399.000000</td>\n",
       "      <td>651.000000</td>\n",
       "    </tr>\n",
       "    <tr>\n",
       "      <th>25%</th>\n",
       "      <td>2.124087e+09</td>\n",
       "      <td>3.200000e+05</td>\n",
       "      <td>3.000000</td>\n",
       "      <td>1.750000</td>\n",
       "      <td>1420.000000</td>\n",
       "      <td>5.049500e+03</td>\n",
       "      <td>1.000000</td>\n",
       "      <td>0.000000</td>\n",
       "      <td>0.000000</td>\n",
       "      <td>3.000000</td>\n",
       "      <td>7.000000</td>\n",
       "      <td>1200.000000</td>\n",
       "      <td>0.000000</td>\n",
       "      <td>1952.000000</td>\n",
       "      <td>0.000000</td>\n",
       "      <td>98033.000000</td>\n",
       "      <td>47.468650</td>\n",
       "      <td>-122.328000</td>\n",
       "      <td>1490.000000</td>\n",
       "      <td>5100.000000</td>\n",
       "    </tr>\n",
       "    <tr>\n",
       "      <th>50%</th>\n",
       "      <td>3.892800e+09</td>\n",
       "      <td>4.500000e+05</td>\n",
       "      <td>3.000000</td>\n",
       "      <td>2.250000</td>\n",
       "      <td>1910.000000</td>\n",
       "      <td>7.616000e+03</td>\n",
       "      <td>1.500000</td>\n",
       "      <td>0.000000</td>\n",
       "      <td>0.000000</td>\n",
       "      <td>3.000000</td>\n",
       "      <td>7.000000</td>\n",
       "      <td>1560.000000</td>\n",
       "      <td>0.000000</td>\n",
       "      <td>1975.000000</td>\n",
       "      <td>0.000000</td>\n",
       "      <td>98065.000000</td>\n",
       "      <td>47.571400</td>\n",
       "      <td>-122.229000</td>\n",
       "      <td>1840.000000</td>\n",
       "      <td>7620.000000</td>\n",
       "    </tr>\n",
       "    <tr>\n",
       "      <th>75%</th>\n",
       "      <td>7.304301e+09</td>\n",
       "      <td>6.400000e+05</td>\n",
       "      <td>4.000000</td>\n",
       "      <td>2.500000</td>\n",
       "      <td>2550.000000</td>\n",
       "      <td>1.066525e+04</td>\n",
       "      <td>2.000000</td>\n",
       "      <td>0.000000</td>\n",
       "      <td>0.000000</td>\n",
       "      <td>4.000000</td>\n",
       "      <td>8.000000</td>\n",
       "      <td>2210.000000</td>\n",
       "      <td>560.000000</td>\n",
       "      <td>1997.000000</td>\n",
       "      <td>0.000000</td>\n",
       "      <td>98117.000000</td>\n",
       "      <td>47.677625</td>\n",
       "      <td>-122.125000</td>\n",
       "      <td>2360.000000</td>\n",
       "      <td>10065.250000</td>\n",
       "    </tr>\n",
       "    <tr>\n",
       "      <th>max</th>\n",
       "      <td>9.900000e+09</td>\n",
       "      <td>7.700000e+06</td>\n",
       "      <td>10.000000</td>\n",
       "      <td>8.000000</td>\n",
       "      <td>13540.000000</td>\n",
       "      <td>1.651359e+06</td>\n",
       "      <td>3.500000</td>\n",
       "      <td>1.000000</td>\n",
       "      <td>4.000000</td>\n",
       "      <td>5.000000</td>\n",
       "      <td>13.000000</td>\n",
       "      <td>9410.000000</td>\n",
       "      <td>4820.000000</td>\n",
       "      <td>2015.000000</td>\n",
       "      <td>2015.000000</td>\n",
       "      <td>98199.000000</td>\n",
       "      <td>47.777600</td>\n",
       "      <td>-121.315000</td>\n",
       "      <td>6210.000000</td>\n",
       "      <td>871200.000000</td>\n",
       "    </tr>\n",
       "  </tbody>\n",
       "</table>\n",
       "</div>"
      ],
      "text/plain": [
       "                 id         price      bedrooms     bathrooms   sqft_living  \\\n",
       "count  1.738400e+04  1.738400e+04  17384.000000  17384.000000  17384.000000   \n",
       "mean   4.574349e+09  5.393666e+05      3.369363      2.115048   2080.029510   \n",
       "std    2.872356e+09  3.696912e+05      0.906468      0.771783    921.630888   \n",
       "min    1.000102e+06  7.500000e+04      0.000000      0.000000    290.000000   \n",
       "25%    2.124087e+09  3.200000e+05      3.000000      1.750000   1420.000000   \n",
       "50%    3.892800e+09  4.500000e+05      3.000000      2.250000   1910.000000   \n",
       "75%    7.304301e+09  6.400000e+05      4.000000      2.500000   2550.000000   \n",
       "max    9.900000e+09  7.700000e+06     10.000000      8.000000  13540.000000   \n",
       "\n",
       "           sqft_lot        floors    waterfront          view     condition  \\\n",
       "count  1.738400e+04  17384.000000  17384.000000  17384.000000  17384.000000   \n",
       "mean   1.509191e+04      1.494248      0.007651      0.236079      3.410780   \n",
       "std    4.145927e+04      0.539443      0.087136      0.768008      0.649792   \n",
       "min    5.200000e+02      1.000000      0.000000      0.000000      1.000000   \n",
       "25%    5.049500e+03      1.000000      0.000000      0.000000      3.000000   \n",
       "50%    7.616000e+03      1.500000      0.000000      0.000000      3.000000   \n",
       "75%    1.066525e+04      2.000000      0.000000      0.000000      4.000000   \n",
       "max    1.651359e+06      3.500000      1.000000      4.000000      5.000000   \n",
       "\n",
       "              grade    sqft_above  sqft_basement      yr_built  yr_renovated  \\\n",
       "count  17384.000000  17384.000000   17384.000000  17384.000000  17384.000000   \n",
       "mean       7.655028   1787.844512     292.184998   1971.152727     83.107973   \n",
       "std        1.169818    827.107595     444.404136     29.328722    398.692283   \n",
       "min        1.000000    290.000000       0.000000   1900.000000      0.000000   \n",
       "25%        7.000000   1200.000000       0.000000   1952.000000      0.000000   \n",
       "50%        7.000000   1560.000000       0.000000   1975.000000      0.000000   \n",
       "75%        8.000000   2210.000000     560.000000   1997.000000      0.000000   \n",
       "max       13.000000   9410.000000    4820.000000   2015.000000   2015.000000   \n",
       "\n",
       "            zipcode           lat          long  sqft_living15     sqft_lot15  \n",
       "count  17384.000000  17384.000000  17384.000000   17384.000000   17384.000000  \n",
       "mean   98077.936896     47.559313   -122.213281    1985.994995   12776.380867  \n",
       "std       53.525617      0.138703      0.140906     686.512835   27175.730523  \n",
       "min    98001.000000     47.159300   -122.519000     399.000000     651.000000  \n",
       "25%    98033.000000     47.468650   -122.328000    1490.000000    5100.000000  \n",
       "50%    98065.000000     47.571400   -122.229000    1840.000000    7620.000000  \n",
       "75%    98117.000000     47.677625   -122.125000    2360.000000   10065.250000  \n",
       "max    98199.000000     47.777600   -121.315000    6210.000000  871200.000000  "
      ]
     },
     "execution_count": 6,
     "metadata": {},
     "output_type": "execute_result"
    }
   ],
   "source": [
    "train.describe()"
   ]
  },
  {
   "cell_type": "code",
   "execution_count": 7,
   "metadata": {},
   "outputs": [
    {
     "name": "stdout",
     "output_type": "stream",
     "text": [
      "feature  unique values\n",
      "id                   17273\n",
      "date                   368\n",
      "price                   3552\n",
      "bedrooms                   11\n",
      "bathrooms                   29\n",
      "sqft_living                   957\n",
      "sqft_lot                   8439\n",
      "floors                   6\n",
      "waterfront                   2\n",
      "view                   5\n",
      "condition                   5\n",
      "grade                   12\n",
      "sqft_above                   869\n",
      "sqft_basement                   295\n",
      "yr_built                   116\n",
      "yr_renovated                   70\n",
      "zipcode                   70\n",
      "lat                   4864\n",
      "long                   729\n",
      "sqft_living15                   717\n",
      "sqft_lot15                   7571\n",
      "date                   368\n"
     ]
    }
   ],
   "source": [
    "print(\"feature\",\" unique values\")\n",
    "for feature in train.columns:\n",
    "   \n",
    "\n",
    "    print(feature,\"                 \",train[feature].value_counts().count())\n",
    "print(\"date\",\"                 \",train['date'].value_counts().count())"
   ]
  },
  {
   "cell_type": "code",
   "execution_count": 8,
   "metadata": {},
   "outputs": [
    {
     "data": {
      "text/plain": [
       "(17384, 21)"
      ]
     },
     "execution_count": 8,
     "metadata": {},
     "output_type": "execute_result"
    }
   ],
   "source": [
    "train\n",
    "train.shape"
   ]
  },
  {
   "cell_type": "code",
   "execution_count": 9,
   "metadata": {},
   "outputs": [],
   "source": [
    "train['date'] = train['date'].apply(convertime)\n",
    "train = train.drop(columns=['id'])\n",
    "train_x = train.drop(columns=['price'])\n",
    "train_y = train.price"
   ]
  },
  {
   "cell_type": "code",
   "execution_count": 10,
   "metadata": {},
   "outputs": [
    {
     "data": {
      "text/plain": [
       "(17384,)"
      ]
     },
     "execution_count": 10,
     "metadata": {},
     "output_type": "execute_result"
    }
   ],
   "source": [
    "train_y.shape"
   ]
  },
  {
   "cell_type": "markdown",
   "metadata": {},
   "source": [
    "Exploration for test dataset"
   ]
  },
  {
   "cell_type": "code",
   "execution_count": 11,
   "metadata": {},
   "outputs": [],
   "source": [
    "test = pd.read_csv('kc_house_test_data.csv')\n",
    "test.head()\n",
    "test['date'] = test['date'].apply(convertime)"
   ]
  },
  {
   "cell_type": "code",
   "execution_count": 12,
   "metadata": {},
   "outputs": [],
   "source": [
    "test = test.drop(columns=['id'])\n",
    "test_x = test.drop(columns=['price'])\n",
    "test_y = test.price"
   ]
  },
  {
   "cell_type": "code",
   "execution_count": 13,
   "metadata": {},
   "outputs": [
    {
     "data": {
      "text/plain": [
       "(4229,)"
      ]
     },
     "execution_count": 13,
     "metadata": {},
     "output_type": "execute_result"
    }
   ],
   "source": [
    "test_y.shape"
   ]
  },
  {
   "cell_type": "code",
   "execution_count": 14,
   "metadata": {},
   "outputs": [
    {
     "data": {
      "text/plain": [
       "array([[-1.36609463, -0.40748647, -1.44481169, ..., -0.11155904,\n",
       "        -0.30006856, -0.0029211 ],\n",
       "       [ 0.76862898,  0.69572873,  1.14666648, ..., -1.147741  ,\n",
       "         0.22433584, -0.32295851],\n",
       "       [ 0.04229149, -0.40748647, -0.14907261, ..., -0.03349053,\n",
       "        -1.39257774, -0.29701549],\n",
       "       ...,\n",
       "       [-0.134864  ,  0.69572873,  0.49879694, ...,  0.32846344,\n",
       "         0.77787382, -0.24851494],\n",
       "       [ 1.03436221,  0.69572873,  0.49879694, ..., -1.05547822,\n",
       "        -0.22723462, -0.20520299],\n",
       "       [-1.13579249, -1.51070166, -1.76874647, ..., -0.60835861,\n",
       "        -1.40714453, -0.39629811]])"
      ]
     },
     "execution_count": 14,
     "metadata": {},
     "output_type": "execute_result"
    }
   ],
   "source": [
    "from sklearn import preprocessing\n",
    "scaler = preprocessing.StandardScaler().fit(train_x.to_numpy())\n",
    "scaler.transform(train_x)\n",
    "scaler.transform(test_x)"
   ]
  },
  {
   "cell_type": "code",
   "execution_count": null,
   "metadata": {},
   "outputs": [],
   "source": [
    "# rvs1 = stats.norm.rvs(loc=5,scale=10,size=500)\n",
    "# rvs2 = stats.norm.rvs(loc=5,scale=10,size=500)\n",
    "# stats.ttest_ind(rvs1,rvs2)\n",
    "\n",
    "stats.ttest_ind(np.array(train_y),np.array(train_x.sqft_lot), equal_var = False)\n"
   ]
  },
  {
   "cell_type": "code",
   "execution_count": 16,
   "metadata": {},
   "outputs": [],
   "source": [
    "x_train, x_validation, y_train, y_validation = train_test_split(train_x, train_y, test_size=0.33, random_state=42)\n"
   ]
  },
  {
   "cell_type": "code",
   "execution_count": 23,
   "metadata": {},
   "outputs": [
    {
     "data": {
      "text/plain": [
       "date             1.416422e+09\n",
       "bedrooms         2.000000e+00\n",
       "bathrooms        2.000000e+00\n",
       "sqft_living      1.350000e+03\n",
       "sqft_lot         1.209000e+03\n",
       "floors           3.000000e+00\n",
       "waterfront       0.000000e+00\n",
       "view             0.000000e+00\n",
       "condition        3.000000e+00\n",
       "grade            8.000000e+00\n",
       "sqft_above       1.350000e+03\n",
       "sqft_basement    0.000000e+00\n",
       "yr_built         2.013000e+03\n",
       "yr_renovated     0.000000e+00\n",
       "zipcode          9.819900e+04\n",
       "lat              4.764900e+01\n",
       "long            -1.223830e+02\n",
       "sqft_living15    1.310000e+03\n",
       "sqft_lot15       9.820000e+02\n",
       "Name: 16010, dtype: float64"
      ]
     },
     "execution_count": 23,
     "metadata": {},
     "output_type": "execute_result"
    }
   ],
   "source": [
    "x_train.iloc[3]"
   ]
  },
  {
   "cell_type": "code",
   "execution_count": null,
   "metadata": {},
   "outputs": [],
   "source": [
    "\n",
    "def train(train_x,validation_x, train_y,  validation_y):\n",
    "    param_dict= dict.fromkeys(train_x.columns.to_numpy(), 0)\n",
    "    param_dict['intercept'] = train_y.mean()\n",
    "    number_of_features = (train_x.iloc[0].size)\n",
    "    number_of_samples =  train_x['bedrooms'].size\n",
    "    stop  = False\n",
    "    best_score = -10000000\n",
    "    feature_set = (train_x.columns.to_numpy())\n",
    "    residual = train_y.to_numpy()-np.ones(number_of_samples)*train_y.mean()\n",
    "#     print(len(residual))\n",
    "    model_features = []\n",
    "    while True:\n",
    "        print(len(feature_set))\n",
    "        if feature_set.size ==0:\n",
    "            return param_dict\n",
    "        scores = []\n",
    "        models = []\n",
    "        features_to_train = model_features\n",
    "        for feature in feature_set:\n",
    "            \n",
    "            features_to_train.append(feature)\n",
    "            model1 = LinearRegression(fit_intercept=True)\n",
    "#             print(\"length\",len(residual))\n",
    "            model1.fit(np.array(np.matrix(train_x.loc[ : , features_to_train ].to_numpy()).T),residual)\n",
    "            Y_pred = model1.predict(np.array(np.matrix(validation_x.loc[ : , features_to_train ].to_numpy()).T))\n",
    "            models.append(model1)\n",
    "            a=mean_squared_error(validation_y.to_numpy(),Y_pred)\n",
    "            scores.append(a)\n",
    "        print(scores)\n",
    "        min_score_feature = np.argmin(scores)\n",
    "        min_score = np.min(scores)\n",
    "        best_model = models[min_score_feature]\n",
    "        best_param = best_model.coef_\n",
    "        param_dict[feature_set[min_score_feature]] = best_param[0]\n",
    "        residual = residual -np.ones(number_of_samples)*best_param[0]\n",
    "        print(\"score\", max_score)\n",
    "        if (max_score -best_score)<.0005 :\n",
    "            return param_dict\n",
    "        best_score = max_score\n",
    "        print(max_score_feature)   \n",
    "        feature_set = np.delete(feature_set,max_score_feature)\n",
    "    return param_dict\n",
    "            \n",
    "        "
   ]
  },
  {
   "cell_type": "code",
   "execution_count": null,
   "metadata": {},
   "outputs": [],
   "source": [
    "train(x_train, x_validation, y_train, y_validation )"
   ]
  },
  {
   "cell_type": "code",
   "execution_count": null,
   "metadata": {},
   "outputs": [],
   "source": [
    "Python\n",
    "# Select only 2 columns from dataFrame and create a new subset DataFrame\n",
    "columnsData = dfObj.loc[ : , ['Age', 'Name'] ]\n",
    "1\n",
    "2\n",
    "# Select only 2 columns from dataFrame and create a new subset DataFrame\n",
    "columnsData = dfObj.loc[ : , ['Age', 'Name'] ]"
   ]
  },
  {
   "cell_type": "code",
   "execution_count": 24,
   "metadata": {},
   "outputs": [
    {
     "name": "stdout",
     "output_type": "stream",
     "text": [
      "[2, 3, 4, 5, 2]\n"
     ]
    }
   ],
   "source": [
    "a = [2,3,4,5,2]\n",
    "b = a\n",
    "print(b)"
   ]
  },
  {
   "cell_type": "code",
   "execution_count": null,
   "metadata": {},
   "outputs": [],
   "source": [
    "rvs3 = stats.norm.rvs(loc=5, scale=20, size=500)\n",
    "stats.ttest_ind(rvs1, rvs3)\n",
    "\n",
    "stats.ttest_ind(rvs1, rvs3, equal_var = False)\n",
    "print(type(rvs3))"
   ]
  },
  {
   "cell_type": "code",
   "execution_count": null,
   "metadata": {},
   "outputs": [],
   "source": [
    "train_y.to_numpy()-np.ones(17384)*train_y.mean()"
   ]
  },
  {
   "cell_type": "code",
   "execution_count": null,
   "metadata": {},
   "outputs": [],
   "source": [
    "# Function to remove elements using discard() \n",
    "def Remove(sets): \n",
    "    sets.discard(21) \n",
    "    print (sets) \n",
    "      \n",
    "# Driver Code \n",
    "sets = set([10, 20, 26, 41, 54, 20]) \n",
    "print(sets)\n",
    "Remove(sets) "
   ]
  },
  {
   "cell_type": "code",
   "execution_count": null,
   "metadata": {},
   "outputs": [],
   "source": [
    "import numpy as np\n",
    "from sklearn.linear_model import LinearRegression\n",
    "X = np.array([2,3 4, 5, 9,7])\n",
    "# y = 1 * x_0 + 2 * x_1 + 3\n",
    "y = np.array([2,4 ,5,8,9,1])\n",
    "reg = LinearRegression().fit(X, y)\n",
    "reg.score(X, y)\n",
    "\n",
    "print(reg.coef_)\n",
    "\n",
    "print(reg.intercept_)\n",
    "\n",
    "print(reg.predict(np.array([[3, 5]])))\n"
   ]
  },
  {
   "cell_type": "code",
   "execution_count": null,
   "metadata": {},
   "outputs": [],
   "source": [
    "a = [2,4]\n",
    "a = dict.fromkeys(train.columns.to_numpy(), 0)\n",
    "a['intercept'] = 9\n",
    "print(a)"
   ]
  },
  {
   "cell_type": "code",
   "execution_count": null,
   "metadata": {},
   "outputs": [],
   "source": [
    "X = np.array([2,3, 4, 5, 9,7])\n",
    "np.array(np.matrix(X).T)"
   ]
  }
 ],
 "metadata": {
  "kernelspec": {
   "display_name": "Python 3",
   "language": "python",
   "name": "python3"
  },
  "language_info": {
   "codemirror_mode": {
    "name": "ipython",
    "version": 3
   },
   "file_extension": ".py",
   "mimetype": "text/x-python",
   "name": "python",
   "nbconvert_exporter": "python",
   "pygments_lexer": "ipython3",
   "version": "3.7.4"
  }
 },
 "nbformat": 4,
 "nbformat_minor": 4
}
