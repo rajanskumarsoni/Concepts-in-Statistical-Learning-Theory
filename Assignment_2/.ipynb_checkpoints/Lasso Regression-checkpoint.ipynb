{
 "cells": [
  {
   "cell_type": "markdown",
   "metadata": {},
   "source": [
    "Find the description here:  https://gerardnico.com/data_mining/stepwise_regression"
   ]
  },
  {
   "cell_type": "code",
   "execution_count": 1,
   "metadata": {
    "ExecuteTime": {
     "end_time": "2020-06-11T13:10:01.707708Z",
     "start_time": "2020-06-11T13:10:00.972279Z"
    }
   },
   "outputs": [],
   "source": [
    "import pandas as pd\n",
    "import numpy as np\n",
    "import matplotlib.pyplot as plt\n",
    "from datetime import datetime\n",
    "from scipy import stats\n",
    "from sklearn.metrics import r2_score\n",
    "from sklearn.linear_model import LinearRegression\n",
    "from sklearn.linear_model import Lasso\n",
    "from sklearn.model_selection import train_test_split\n",
    "from sklearn.metrics import mean_squared_error\n",
    "from sklearn.metrics import accuracy_score\n",
    "from sklearn.preprocessing import PolynomialFeatures\n",
    "\n",
    "def convertime(datetime_str):\n",
    "#     print(datetime_str)\n",
    "    return (datetime.strptime(datetime_str, \"%Y%m%dT000000\").timestamp())"
   ]
  },
  {
   "cell_type": "code",
   "execution_count": 2,
   "metadata": {
    "ExecuteTime": {
     "end_time": "2020-06-11T13:10:03.273377Z",
     "start_time": "2020-06-11T13:10:03.232305Z"
    }
   },
   "outputs": [],
   "source": [
    "train = pd.read_csv('kc_house_train_data.csv')"
   ]
  },
  {
   "cell_type": "markdown",
   "metadata": {},
   "source": [
    "Exploration of train dataset"
   ]
  },
  {
   "cell_type": "code",
   "execution_count": 3,
   "metadata": {
    "ExecuteTime": {
     "end_time": "2020-06-11T13:10:06.078572Z",
     "start_time": "2020-06-11T13:10:06.030581Z"
    }
   },
   "outputs": [
    {
     "name": "stdout",
     "output_type": "stream",
     "text": [
      "feature  unique values\n",
      "id                   17273\n",
      "date                   368\n",
      "price                   3552\n",
      "bedrooms                   11\n",
      "bathrooms                   29\n",
      "sqft_living                   957\n",
      "sqft_lot                   8439\n",
      "floors                   6\n",
      "waterfront                   2\n",
      "view                   5\n",
      "condition                   5\n",
      "grade                   12\n",
      "sqft_above                   869\n",
      "sqft_basement                   295\n",
      "yr_built                   116\n",
      "yr_renovated                   70\n",
      "zipcode                   70\n",
      "lat                   4864\n",
      "long                   729\n",
      "sqft_living15                   717\n",
      "sqft_lot15                   7571\n",
      "date                   368\n"
     ]
    }
   ],
   "source": [
    "print(\"feature\",\" unique values\")\n",
    "for feature in train.columns:\n",
    "    print(feature,\"                 \",train[feature].value_counts().count())\n",
    "print(\"date\",\"                 \",train['date'].value_counts().count())"
   ]
  },
  {
   "cell_type": "code",
   "execution_count": 4,
   "metadata": {
    "ExecuteTime": {
     "end_time": "2020-06-11T13:10:09.553052Z",
     "start_time": "2020-06-11T13:10:09.333923Z"
    }
   },
   "outputs": [],
   "source": [
    "train['date'] = train['date'].apply(convertime)\n",
    "train = train.drop(columns=['id'])\n",
    "train_x = train.drop(columns=['price'])\n",
    "train_y = train.price"
   ]
  },
  {
   "cell_type": "markdown",
   "metadata": {},
   "source": [
    "Exploration for test dataset"
   ]
  },
  {
   "cell_type": "code",
   "execution_count": 5,
   "metadata": {
    "ExecuteTime": {
     "end_time": "2020-06-11T13:10:12.241299Z",
     "start_time": "2020-06-11T13:10:12.096939Z"
    }
   },
   "outputs": [],
   "source": [
    "test = pd.read_csv('kc_house_test_data.csv')\n",
    "test.head()\n",
    "test['date'] = test['date'].apply(convertime)"
   ]
  },
  {
   "cell_type": "code",
   "execution_count": 6,
   "metadata": {
    "ExecuteTime": {
     "end_time": "2020-06-11T13:10:14.411170Z",
     "start_time": "2020-06-11T13:10:14.403405Z"
    }
   },
   "outputs": [],
   "source": [
    "test = test.drop(columns=['id'])\n",
    "test_x = test.drop(columns=['price'])\n",
    "test_y = test.price"
   ]
  },
  {
   "cell_type": "code",
   "execution_count": 7,
   "metadata": {
    "ExecuteTime": {
     "end_time": "2020-06-11T13:10:16.592681Z",
     "start_time": "2020-06-11T13:10:16.589932Z"
    }
   },
   "outputs": [],
   "source": [
    "test_y.shape\n",
    "x_test = test_x\n",
    "y_test=test_y"
   ]
  },
  {
   "cell_type": "code",
   "execution_count": 8,
   "metadata": {
    "ExecuteTime": {
     "end_time": "2020-06-11T13:10:18.902868Z",
     "start_time": "2020-06-11T13:10:18.789453Z"
    }
   },
   "outputs": [
    {
     "data": {
      "text/plain": [
       "array([[-1.36609463, -0.40748647, -1.44481169, ..., -0.11155904,\n",
       "        -0.30006856, -0.0029211 ],\n",
       "       [ 0.76862898,  0.69572873,  1.14666648, ..., -1.147741  ,\n",
       "         0.22433584, -0.32295851],\n",
       "       [ 0.04229149, -0.40748647, -0.14907261, ..., -0.03349053,\n",
       "        -1.39257774, -0.29701549],\n",
       "       ...,\n",
       "       [-0.134864  ,  0.69572873,  0.49879694, ...,  0.32846344,\n",
       "         0.77787382, -0.24851494],\n",
       "       [ 1.03436221,  0.69572873,  0.49879694, ..., -1.05547822,\n",
       "        -0.22723462, -0.20520299],\n",
       "       [-1.13579249, -1.51070166, -1.76874647, ..., -0.60835861,\n",
       "        -1.40714453, -0.39629811]])"
      ]
     },
     "execution_count": 8,
     "metadata": {},
     "output_type": "execute_result"
    }
   ],
   "source": [
    "from sklearn import preprocessing\n",
    "scaler = preprocessing.StandardScaler().fit(train_x.to_numpy())\n",
    "scaler.transform(train_x)\n",
    "scaler.transform(test_x)"
   ]
  },
  {
   "cell_type": "code",
   "execution_count": null,
   "metadata": {
    "ExecuteTime": {
     "end_time": "2020-06-10T13:50:48.696706Z",
     "start_time": "2020-06-10T13:50:48.450477Z"
    }
   },
   "outputs": [],
   "source": [
    "# rvs1 = stats.norm.rvs(loc=5,scale=10,size=500)\n",
    "# rvs2 = stats.norm.rvs(loc=5,scale=10,size=500)\n",
    "# stats.ttest_ind(rvs1,rvs2)\n",
    "\n",
    "stats.ttest_ind(np.array(train_y),np.array(train_x.sqft_lot), equal_var = False)\n"
   ]
  },
  {
   "cell_type": "code",
   "execution_count": 36,
   "metadata": {
    "ExecuteTime": {
     "end_time": "2020-06-11T14:10:32.795304Z",
     "start_time": "2020-06-11T14:10:32.611678Z"
    }
   },
   "outputs": [],
   "source": [
    "from sklearn.decomposition import TruncatedSVD\n",
    "svd = TruncatedSVD(n_components= 15, n_iter=4, random_state=42)\n",
    "train_xx = svd.fit_transform(train_x)\n",
    "# print(len(p))"
   ]
  },
  {
   "cell_type": "code",
   "execution_count": 39,
   "metadata": {
    "ExecuteTime": {
     "end_time": "2020-06-11T14:10:49.316169Z",
     "start_time": "2020-06-11T14:10:49.308585Z"
    }
   },
   "outputs": [],
   "source": [
    "x_train, x_validation, y_train, y_validation = train_test_split(train_x, train_y, test_size=0.1, random_state=42)\n"
   ]
  },
  {
   "cell_type": "code",
   "execution_count": null,
   "metadata": {
    "ExecuteTime": {
     "end_time": "2020-06-10T11:42:21.693977Z",
     "start_time": "2020-06-10T11:42:21.489005Z"
    }
   },
   "outputs": [],
   "source": [
    "lim = []\n",
    "for feat in x_train.columns.to_numpy():\n",
    "    model1 = LinearRegression(fit_intercept=True)\n",
    "    model1.fit(np.array(np.matrix(x_train[ feat ].to_numpy()).T),y_train.to_numpy())\n",
    "    print(model1.coef_)\n",
    "    Y_pred = model1.predict(np.array(np.matrix(x_validation[ feat ].to_numpy()).T))\n",
    "    a=mean_squared_error(y_validation.to_numpy(),Y_pred)\n",
    "    lim.append(a)\n",
    "plt.close()\n",
    "plt.plot(np.arange(len(x_train.columns.to_numpy())),lim)\n",
    "plt.show()\n",
    "print(x_train.columns.to_numpy())\n",
    "    \n",
    "print(np.argmin(lim))\n",
    "print(lim[3])"
   ]
  },
  {
   "cell_type": "code",
   "execution_count": 118,
   "metadata": {
    "ExecuteTime": {
     "end_time": "2020-06-11T18:22:56.186421Z",
     "start_time": "2020-06-11T18:22:55.761466Z"
    }
   },
   "outputs": [
    {
     "name": "stderr",
     "output_type": "stream",
     "text": [
      "/home/unigalso/miniconda3/lib/python3.7/site-packages/sklearn/linear_model/_coordinate_descent.py:476: ConvergenceWarning: Objective did not converge. You might want to increase the number of iterations. Duality gap: 521729103326486.2, tolerance: 216110357322.142\n",
      "  positive)\n",
      "/home/unigalso/miniconda3/lib/python3.7/site-packages/sklearn/linear_model/_coordinate_descent.py:476: ConvergenceWarning: Objective did not converge. You might want to increase the number of iterations. Duality gap: 373147569594477.25, tolerance: 216110357322.142\n",
      "  positive)\n",
      "/home/unigalso/miniconda3/lib/python3.7/site-packages/sklearn/linear_model/_coordinate_descent.py:476: ConvergenceWarning: Objective did not converge. You might want to increase the number of iterations. Duality gap: 344900468049706.3, tolerance: 216110357322.142\n",
      "  positive)\n",
      "/home/unigalso/miniconda3/lib/python3.7/site-packages/sklearn/linear_model/_coordinate_descent.py:476: ConvergenceWarning: Objective did not converge. You might want to increase the number of iterations. Duality gap: 333130452581309.7, tolerance: 216110357322.142\n",
      "  positive)\n",
      "/home/unigalso/miniconda3/lib/python3.7/site-packages/sklearn/linear_model/_coordinate_descent.py:476: ConvergenceWarning: Objective did not converge. You might want to increase the number of iterations. Duality gap: 326595050984620.5, tolerance: 216110357322.142\n",
      "  positive)\n",
      "/home/unigalso/miniconda3/lib/python3.7/site-packages/sklearn/linear_model/_coordinate_descent.py:476: ConvergenceWarning: Objective did not converge. You might want to increase the number of iterations. Duality gap: 322842887961560.56, tolerance: 216110357322.142\n",
      "  positive)\n",
      "/home/unigalso/miniconda3/lib/python3.7/site-packages/sklearn/linear_model/_coordinate_descent.py:476: ConvergenceWarning: Objective did not converge. You might want to increase the number of iterations. Duality gap: 320722997063403.1, tolerance: 216110357322.142\n",
      "  positive)\n",
      "/home/unigalso/miniconda3/lib/python3.7/site-packages/sklearn/linear_model/_coordinate_descent.py:476: ConvergenceWarning: Objective did not converge. You might want to increase the number of iterations. Duality gap: 319551681538577.75, tolerance: 216110357322.142\n",
      "  positive)\n",
      "/home/unigalso/miniconda3/lib/python3.7/site-packages/sklearn/linear_model/_coordinate_descent.py:476: ConvergenceWarning: Objective did not converge. You might want to increase the number of iterations. Duality gap: 318918173358182.9, tolerance: 216110357322.142\n",
      "  positive)\n",
      "/home/unigalso/miniconda3/lib/python3.7/site-packages/sklearn/linear_model/_coordinate_descent.py:476: ConvergenceWarning: Objective did not converge. You might want to increase the number of iterations. Duality gap: 318582034295976.2, tolerance: 216110357322.142\n",
      "  positive)\n",
      "/home/unigalso/miniconda3/lib/python3.7/site-packages/sklearn/linear_model/_coordinate_descent.py:476: ConvergenceWarning: Objective did not converge. You might want to increase the number of iterations. Duality gap: 318406682561114.7, tolerance: 216110357322.142\n",
      "  positive)\n",
      "/home/unigalso/miniconda3/lib/python3.7/site-packages/sklearn/linear_model/_coordinate_descent.py:476: ConvergenceWarning: Objective did not converge. You might want to increase the number of iterations. Duality gap: 318316549869148.7, tolerance: 216110357322.142\n",
      "  positive)\n",
      "/home/unigalso/miniconda3/lib/python3.7/site-packages/sklearn/linear_model/_coordinate_descent.py:476: ConvergenceWarning: Objective did not converge. You might want to increase the number of iterations. Duality gap: 318270788954027.8, tolerance: 216110357322.142\n",
      "  positive)\n",
      "/home/unigalso/miniconda3/lib/python3.7/site-packages/sklearn/linear_model/_coordinate_descent.py:476: ConvergenceWarning: Objective did not converge. You might want to increase the number of iterations. Duality gap: 318247776014394.56, tolerance: 216110357322.142\n",
      "  positive)\n",
      "/home/unigalso/miniconda3/lib/python3.7/site-packages/sklearn/linear_model/_coordinate_descent.py:476: ConvergenceWarning: Objective did not converge. You might want to increase the number of iterations. Duality gap: 318236296415755.6, tolerance: 216110357322.142\n",
      "  positive)\n",
      "/home/unigalso/miniconda3/lib/python3.7/site-packages/sklearn/linear_model/_coordinate_descent.py:476: ConvergenceWarning: Objective did not converge. You might want to increase the number of iterations. Duality gap: 318230637952873.7, tolerance: 216110357322.142\n",
      "  positive)\n",
      "/home/unigalso/miniconda3/lib/python3.7/site-packages/sklearn/linear_model/_coordinate_descent.py:476: ConvergenceWarning: Objective did not converge. You might want to increase the number of iterations. Duality gap: 318227889015703.3, tolerance: 216110357322.142\n",
      "  positive)\n",
      "/home/unigalso/miniconda3/lib/python3.7/site-packages/sklearn/linear_model/_coordinate_descent.py:476: ConvergenceWarning: Objective did not converge. You might want to increase the number of iterations. Duality gap: 318226526375057.56, tolerance: 216110357322.142\n",
      "  positive)\n",
      "/home/unigalso/miniconda3/lib/python3.7/site-packages/sklearn/linear_model/_coordinate_descent.py:476: ConvergenceWarning: Objective did not converge. You might want to increase the number of iterations. Duality gap: 318225848156155.4, tolerance: 216110357322.142\n",
      "  positive)\n",
      "/home/unigalso/miniconda3/lib/python3.7/site-packages/sklearn/linear_model/_coordinate_descent.py:476: ConvergenceWarning: Objective did not converge. You might want to increase the number of iterations. Duality gap: 318225503279775.44, tolerance: 216110357322.142\n",
      "  positive)\n",
      "/home/unigalso/miniconda3/lib/python3.7/site-packages/sklearn/linear_model/_coordinate_descent.py:476: ConvergenceWarning: Objective did not converge. You might want to increase the number of iterations. Duality gap: 318225317955463.0, tolerance: 216110357322.142\n",
      "  positive)\n",
      "/home/unigalso/miniconda3/lib/python3.7/site-packages/sklearn/linear_model/_coordinate_descent.py:476: ConvergenceWarning: Objective did not converge. You might want to increase the number of iterations. Duality gap: 318225205642650.94, tolerance: 216110357322.142\n",
      "  positive)\n",
      "/home/unigalso/miniconda3/lib/python3.7/site-packages/sklearn/linear_model/_coordinate_descent.py:476: ConvergenceWarning: Objective did not converge. You might want to increase the number of iterations. Duality gap: 318225122040875.25, tolerance: 216110357322.142\n",
      "  positive)\n",
      "/home/unigalso/miniconda3/lib/python3.7/site-packages/sklearn/linear_model/_coordinate_descent.py:476: ConvergenceWarning: Objective did not converge. You might want to increase the number of iterations. Duality gap: 318225042721574.44, tolerance: 216110357322.142\n",
      "  positive)\n",
      "/home/unigalso/miniconda3/lib/python3.7/site-packages/sklearn/linear_model/_coordinate_descent.py:476: ConvergenceWarning: Objective did not converge. You might want to increase the number of iterations. Duality gap: 318224951866011.75, tolerance: 216110357322.142\n",
      "  positive)\n",
      "/home/unigalso/miniconda3/lib/python3.7/site-packages/sklearn/linear_model/_coordinate_descent.py:476: ConvergenceWarning: Objective did not converge. You might want to increase the number of iterations. Duality gap: 318224836308342.25, tolerance: 216110357322.142\n",
      "  positive)\n"
     ]
    },
    {
     "name": "stdout",
     "output_type": "stream",
     "text": [
      "260156.58972836324 258251.39969122666\n",
      "216112.13478925737 218403.4249532096\n",
      "207024.66627312466 209973.843942089\n",
      "203259.0119462648 206359.82839947386\n",
      "201174.66749214227 204325.56137245186\n",
      "199937.78194843477 203148.45437243374\n",
      "199194.23164345228 202480.40715548105\n",
      "198744.79718435102 202110.35063115155\n",
      "198470.53441014732 201909.9229318066\n",
      "198300.48768685514 201803.5001844183\n",
      "198192.89643294422 201747.96526621992\n",
      "198123.34328693707 201719.41859384105\n",
      "198077.4919147536 201704.93218946914\n",
      "198046.79610183905 201697.6592165653\n",
      "198026.0339499027 201694.0390734198\n",
      "198011.91653390223 201692.24882816325\n",
      "198002.3075659385 201691.36741333918\n",
      "197995.78208964746 201690.93447074757\n",
      "197991.37093649706 201690.72188021723\n",
      "197988.4071705868 201690.61732121228\n",
      "197986.42962186586 201690.5657209534\n",
      "197985.11958446717 201690.54013062597\n",
      "197984.2577803003 201690.5273620076\n",
      "197983.694395729 201690.5209473537\n",
      "197983.32795918052 201690.5177021289\n",
      "197983.09040107444 201690.51604955245\n",
      "197982.93651865443 201690.51520348634\n",
      "197982.83660026864 201690.51476890093\n",
      "197982.7713116896 201690.51454564222\n",
      "197982.72819044773 201690.51443145738\n",
      "197982.72819044773\n"
     ]
    },
    {
     "name": "stderr",
     "output_type": "stream",
     "text": [
      "/home/unigalso/miniconda3/lib/python3.7/site-packages/sklearn/linear_model/_coordinate_descent.py:476: ConvergenceWarning: Objective did not converge. You might want to increase the number of iterations. Duality gap: 318224681966253.1, tolerance: 216110357322.142\n",
      "  positive)\n",
      "/home/unigalso/miniconda3/lib/python3.7/site-packages/sklearn/linear_model/_coordinate_descent.py:476: ConvergenceWarning: Objective did not converge. You might want to increase the number of iterations. Duality gap: 318224471147151.1, tolerance: 216110357322.142\n",
      "  positive)\n",
      "/home/unigalso/miniconda3/lib/python3.7/site-packages/sklearn/linear_model/_coordinate_descent.py:476: ConvergenceWarning: Objective did not converge. You might want to increase the number of iterations. Duality gap: 318224179871688.4, tolerance: 216110357322.142\n",
      "  positive)\n",
      "/home/unigalso/miniconda3/lib/python3.7/site-packages/sklearn/linear_model/_coordinate_descent.py:476: ConvergenceWarning: Objective did not converge. You might want to increase the number of iterations. Duality gap: 318223774624854.1, tolerance: 216110357322.142\n",
      "  positive)\n"
     ]
    },
    {
     "data": {
      "image/png": "[encoded data removed]",
      "text/plain": [
       "<Figure size 432x288 with 1 Axes>"
      ]
     },
     "metadata": {
      "needs_background": "light"
     },
     "output_type": "display_data"
    }
   ],
   "source": [
    "from matplotlib.ticker import MaxNLocator\n",
    "from sklearn import linear_model\n",
    "np.random.seed(0)\n",
    "a = []\n",
    "b = []\n",
    "c = []\n",
    "d = []\n",
    "ax = plt.figure().gca()\n",
    "model = linear_model.Lasso(alpha=0.5, warm_start = True, max_iter = 1, fit_intercept=True)\n",
    "for i in range(30) :\n",
    "\n",
    "    model.fit(x_train, y_train)\n",
    "    y_poly_pred = model.predict(x_validation)\n",
    "    y_poly_pred_train = model.predict(x_train)\n",
    "    rm = np.sqrt(mean_squared_error(y_train,y_poly_pred_train))\n",
    "    rmse = np.sqrt(mean_squared_error(y_validation,y_poly_pred))\n",
    "#     rm = r2_score(y_train,y_poly_pred_train)\n",
    "#     rmse = r2_score(y_validation,y_poly_pred)\n",
    "    print(rmse, rm)\n",
    "    \n",
    "    a.append(i)\n",
    "    b.append(rmse)\n",
    "    c.append(rm)\n",
    "    d.append(model.coef_)\n",
    "ax.plot(a,b, label = \"validate\")\n",
    "ax.plot(a,c, label = \" train\")\n",
    "ax.xaxis.set_major_locator(MaxNLocator(integer=True))\n",
    "ax.legend()\n",
    "\n",
    "#     r2 = r2_score(y,y_poly_pred)\n",
    "print(rmse)\n",
    "# print(r2)"
   ]
  },
  {
   "cell_type": "code",
   "execution_count": 78,
   "metadata": {
    "ExecuteTime": {
     "end_time": "2020-06-11T15:33:50.790373Z",
     "start_time": "2020-06-11T15:33:50.786098Z"
    }
   },
   "outputs": [
    {
     "data": {
      "text/plain": [
       "(19, 30)"
      ]
     },
     "execution_count": 78,
     "metadata": {},
     "output_type": "execute_result"
    }
   ],
   "source": [
    "np.array(d).T.shape"
   ]
  },
  {
   "cell_type": "code",
   "execution_count": 120,
   "metadata": {
    "ExecuteTime": {
     "end_time": "2020-06-11T18:25:04.459143Z",
     "start_time": "2020-06-11T18:25:03.951514Z"
    }
   },
   "outputs": [
    {
     "name": "stdout",
     "output_type": "stream",
     "text": [
      "30\n",
      "[ 2 16  9  1  5]\n"
     ]
    },
    {
     "data": {
      "text/plain": [
       "Text(0, 0.5, 'root mean square error')"
      ]
     },
     "execution_count": 120,
     "metadata": {},
     "output_type": "execute_result"
    },
    {
     "data": {
      "image/png": "[encoded data removed]",
      "text/plain": [
       "<Figure size 1440x720 with 1 Axes>"
      ]
     },
     "metadata": {
      "needs_background": "light"
     },
     "output_type": "display_data"
    }
   ],
   "source": [
    "\n",
    "f = np.array(d).T\n",
    "maxvar = np.var(f,axis=1)\n",
    "print(len(f[1]))\n",
    "varind = maxvar.argsort()[-5:][::-1]\n",
    "print(varind)\n",
    "\n",
    "g = list(x_train.columns)\n",
    "ax = plt.figure(figsize =(20,10)).gca()\n",
    "for i in varind:\n",
    "#     print(i)\n",
    "#     print(len(f[i][1]))\n",
    "    ax.plot(range(30), f[i], label = g[i])\n",
    "\n",
    "    \n",
    "\n",
    "\n",
    "# Put a legend to the right of the current axis\n",
    "\n",
    "    ax.annotate( g[i], xy=(i, f[i][i]), xytext=(i,f[i][i]+i*10000 ),size=20,\n",
    "            arrowprops=dict(facecolor='black', shrink=0.05),\n",
    "            )\n",
    "ax.xaxis.set_major_locator(MaxNLocator(integer=True)) \n",
    "ax.plot(range(30), np.zeros(30), color='green', linestyle='dashed',linewidth=2, markersize=12)\n",
    "ax.legend(loc='center left', bbox_to_anchor=(1, 0.5), prop={'size': 20})\n",
    "for tick in ax.xaxis.get_major_ticks():\n",
    "                tick.label.set_fontsize(20) \n",
    "for tick in ax.yaxis.get_major_ticks():\n",
    "                tick.label.set_fontsize(20) \n",
    "plt.xlabel('iteration', fontsize=25)\n",
    "plt.ylabel('root mean square error', fontsize=25)\n",
    "# plt.legend()\n",
    "# plt.show()"
   ]
  },
  {
   "cell_type": "code",
   "execution_count": 13,
   "metadata": {
    "ExecuteTime": {
     "end_time": "2020-06-11T13:45:07.909312Z",
     "start_time": "2020-06-11T13:45:07.899305Z"
    }
   },
   "outputs": [
    {
     "name": "stdout",
     "output_type": "stream",
     "text": [
      "[0.85       0.03040541]\n",
      "-0.022297297297297458\n"
     ]
    },
    {
     "name": "stderr",
     "output_type": "stream",
     "text": [
      "/home/unigalso/miniconda3/lib/python3.7/site-packages/sklearn/linear_model/_coordinate_descent.py:476: ConvergenceWarning: Objective did not converge. You might want to increase the number of iterations. Duality gap: 0.18091216216216227, tolerance: 0.0002\n",
      "  positive)\n"
     ]
    }
   ],
   "source": [
    "from sklearn import linear_model\n",
    "clf = linear_model.Lasso(alpha=0.1, warm_start = True, max_iter = 1)\n",
    "for _ in range(1):\n",
    "    clf.fit([[0,2], [1, 6], [2, 9]], [0, 1, 2])\n",
    "    \n",
    "\n",
    "print(clf.coef_)\n",
    "\n",
    "print(clf.intercept_)"
   ]
  },
  {
   "cell_type": "code",
   "execution_count": 12,
   "metadata": {
    "ExecuteTime": {
     "end_time": "2020-06-11T13:44:42.916518Z",
     "start_time": "2020-06-11T13:44:42.909603Z"
    }
   },
   "outputs": [
    {
     "name": "stdout",
     "output_type": "stream",
     "text": [
      "[0.4286192  0.14998644]\n",
      "-0.2785423759749559\n"
     ]
    },
    {
     "name": "stderr",
     "output_type": "stream",
     "text": [
      "/home/unigalso/miniconda3/lib/python3.7/site-packages/sklearn/linear_model/_coordinate_descent.py:476: ConvergenceWarning: Objective did not converge. You might want to increase the number of iterations. Duality gap: 0.08878568325521487, tolerance: 0.0002\n",
      "  positive)\n"
     ]
    }
   ],
   "source": [
    "from sklearn import linear_model\n",
    "clf = linear_model.Lasso(alpha=0.1, max_iter=5)\n",
    "clf.fit([[0,2], [1, 6], [2, 9]], [0, 1, 2])\n",
    "\n",
    "print(clf.coef_)\n",
    "\n",
    "print(clf.intercept_)"
   ]
  },
  {
   "cell_type": "code",
   "execution_count": 88,
   "metadata": {
    "ExecuteTime": {
     "end_time": "2020-06-11T15:41:08.026526Z",
     "start_time": "2020-06-11T15:41:08.019130Z"
    }
   },
   "outputs": [
    {
     "data": {
      "text/plain": [
       "array([3., 4.])"
      ]
     },
     "execution_count": 88,
     "metadata": {},
     "output_type": "execute_result"
    }
   ],
   "source": [
    "np.mean(np.array([[2,3],[4,5]]), axis=0)"
   ]
  },
  {
   "cell_type": "code",
   "execution_count": 92,
   "metadata": {
    "ExecuteTime": {
     "end_time": "2020-06-11T15:46:02.712199Z",
     "start_time": "2020-06-11T15:46:02.707435Z"
    }
   },
   "outputs": [
    {
     "name": "stdout",
     "output_type": "stream",
     "text": [
      "[5 4]\n"
     ]
    }
   ],
   "source": [
    "arr = np.array([3,4,5,7,8,10])\n",
    "p = arr.argsort()[-2:][::-1]\n",
    "print(p)"
   ]
  },
  {
   "cell_type": "markdown",
   "metadata": {},
   "source": [
    "####################coefficient profiles ################################"
   ]
  }
 ],
 "metadata": {
  "kernelspec": {
   "display_name": "Python 3",
   "language": "python",
   "name": "python3"
  },
  "language_info": {
   "codemirror_mode": {
    "name": "ipython",
    "version": 3
   },
   "file_extension": ".py",
   "mimetype": "text/x-python",
   "name": "python",
   "nbconvert_exporter": "python",
   "pygments_lexer": "ipython3",
   "version": "3.7.4"
  },
  "toc": {
   "base_numbering": 1,
   "nav_menu": {},
   "number_sections": true,
   "sideBar": true,
   "skip_h1_title": false,
   "title_cell": "Table of Contents",
   "title_sidebar": "Contents",
   "toc_cell": false,
   "toc_position": {},
   "toc_section_display": true,
   "toc_window_display": false
  },
  "varInspector": {
   "cols": {
    "lenName": 16,
    "lenType": 16,
    "lenVar": 40
   },
   "kernels_config": {
    "python": {
     "delete_cmd_postfix": "",
     "delete_cmd_prefix": "del ",
     "library": "var_list.py",
     "varRefreshCmd": "print(var_dic_list())"
    },
    "r": {
     "delete_cmd_postfix": ") ",
     "delete_cmd_prefix": "rm(",
     "library": "var_list.r",
     "varRefreshCmd": "cat(var_dic_list()) "
    }
   },
   "types_to_exclude": [
    "module",
    "function",
    "builtin_function_or_method",
    "instance",
    "_Feature"
   ],
   "window_display": false
  }
 },
 "nbformat": 4,
 "nbformat_minor": 4
}
