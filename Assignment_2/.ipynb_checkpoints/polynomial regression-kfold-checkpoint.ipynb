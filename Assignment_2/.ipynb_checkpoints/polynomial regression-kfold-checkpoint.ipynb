{
 "cells": [
  {
   "cell_type": "markdown",
   "metadata": {},
   "source": [
    "Find the description here:  https://gerardnico.com/data_mining/stepwise_regression"
   ]
  },
  {
   "cell_type": "code",
   "execution_count": 1,
   "metadata": {
    "ExecuteTime": {
     "end_time": "2020-06-10T16:29:02.167332Z",
     "start_time": "2020-06-10T16:29:01.318608Z"
    }
   },
   "outputs": [],
   "source": [
    "import pandas as pd\n",
    "import numpy as np\n",
    "import matplotlib.pyplot as plt\n",
    "from datetime import datetime\n",
    "from scipy import stats\n",
    "from sklearn.metrics import r2_score\n",
    "from sklearn.linear_model import LinearRegression\n",
    "from sklearn.linear_model import Lasso\n",
    "from sklearn.model_selection import train_test_split\n",
    "from sklearn.metrics import mean_squared_error\n",
    "from sklearn.metrics import accuracy_score\n",
    "from sklearn.preprocessing import PolynomialFeatures\n",
    "\n",
    "def convertime(datetime_str):\n",
    "#     print(datetime_str)\n",
    "    return (datetime.strptime(datetime_str, \"%Y%m%dT000000\").timestamp())"
   ]
  },
  {
   "cell_type": "code",
   "execution_count": 2,
   "metadata": {
    "ExecuteTime": {
     "end_time": "2020-06-10T16:29:03.626788Z",
     "start_time": "2020-06-10T16:29:03.585018Z"
    }
   },
   "outputs": [],
   "source": [
    "train = pd.read_csv('kc_house_train_data.csv')"
   ]
  },
  {
   "cell_type": "markdown",
   "metadata": {},
   "source": [
    "Exploration of train dataset"
   ]
  },
  {
   "cell_type": "code",
   "execution_count": 3,
   "metadata": {
    "ExecuteTime": {
     "end_time": "2020-06-10T16:29:06.512686Z",
     "start_time": "2020-06-10T16:29:06.447012Z"
    }
   },
   "outputs": [
    {
     "name": "stdout",
     "output_type": "stream",
     "text": [
      "feature  unique values\n",
      "id                   17273\n",
      "date                   368\n",
      "price                   3552\n",
      "bedrooms                   11\n",
      "bathrooms                   29\n",
      "sqft_living                   957\n",
      "sqft_lot                   8439\n",
      "floors                   6\n",
      "waterfront                   2\n",
      "view                   5\n",
      "condition                   5\n",
      "grade                   12\n",
      "sqft_above                   869\n",
      "sqft_basement                   295\n",
      "yr_built                   116\n",
      "yr_renovated                   70\n",
      "zipcode                   70\n",
      "lat                   4864\n",
      "long                   729\n",
      "sqft_living15                   717\n",
      "sqft_lot15                   7571\n",
      "date                   368\n"
     ]
    }
   ],
   "source": [
    "print(\"feature\",\" unique values\")\n",
    "for feature in train.columns:\n",
    "    print(feature,\"                 \",train[feature].value_counts().count())\n",
    "print(\"date\",\"                 \",train['date'].value_counts().count())"
   ]
  },
  {
   "cell_type": "code",
   "execution_count": 4,
   "metadata": {
    "ExecuteTime": {
     "end_time": "2020-06-10T16:29:10.177313Z",
     "start_time": "2020-06-10T16:29:09.950673Z"
    }
   },
   "outputs": [],
   "source": [
    "train['date'] = train['date'].apply(convertime)\n",
    "train = train.drop(columns=['id'])\n",
    "train_x = train.drop(columns=['price'])\n",
    "train_y = train.price"
   ]
  },
  {
   "cell_type": "markdown",
   "metadata": {},
   "source": [
    "Exploration for test dataset"
   ]
  },
  {
   "cell_type": "code",
   "execution_count": 5,
   "metadata": {
    "ExecuteTime": {
     "end_time": "2020-06-10T16:29:25.338759Z",
     "start_time": "2020-06-10T16:29:25.254419Z"
    }
   },
   "outputs": [],
   "source": [
    "test = pd.read_csv('kc_house_test_data.csv')\n",
    "test.head()\n",
    "test['date'] = test['date'].apply(convertime)"
   ]
  },
  {
   "cell_type": "code",
   "execution_count": 6,
   "metadata": {
    "ExecuteTime": {
     "end_time": "2020-06-10T16:29:27.181142Z",
     "start_time": "2020-06-10T16:29:27.170061Z"
    }
   },
   "outputs": [],
   "source": [
    "test = test.drop(columns=['id'])\n",
    "test_x = test.drop(columns=['price'])\n",
    "test_y = test.price"
   ]
  },
  {
   "cell_type": "code",
   "execution_count": 7,
   "metadata": {
    "ExecuteTime": {
     "end_time": "2020-06-10T16:29:29.771460Z",
     "start_time": "2020-06-10T16:29:29.768342Z"
    }
   },
   "outputs": [],
   "source": [
    "test_y.shape\n",
    "x_test = test_x\n",
    "y_test=test_y"
   ]
  },
  {
   "cell_type": "code",
   "execution_count": 8,
   "metadata": {
    "ExecuteTime": {
     "end_time": "2020-06-10T16:29:32.155133Z",
     "start_time": "2020-06-10T16:29:32.117305Z"
    }
   },
   "outputs": [
    {
     "data": {
      "text/plain": [
       "array([[-1.36609463, -0.40748647, -1.44481169, ..., -0.11155904,\n",
       "        -0.30006856, -0.0029211 ],\n",
       "       [ 0.76862898,  0.69572873,  1.14666648, ..., -1.147741  ,\n",
       "         0.22433584, -0.32295851],\n",
       "       [ 0.04229149, -0.40748647, -0.14907261, ..., -0.03349053,\n",
       "        -1.39257774, -0.29701549],\n",
       "       ...,\n",
       "       [-0.134864  ,  0.69572873,  0.49879694, ...,  0.32846344,\n",
       "         0.77787382, -0.24851494],\n",
       "       [ 1.03436221,  0.69572873,  0.49879694, ..., -1.05547822,\n",
       "        -0.22723462, -0.20520299],\n",
       "       [-1.13579249, -1.51070166, -1.76874647, ..., -0.60835861,\n",
       "        -1.40714453, -0.39629811]])"
      ]
     },
     "execution_count": 8,
     "metadata": {},
     "output_type": "execute_result"
    }
   ],
   "source": [
    "from sklearn import preprocessing\n",
    "scaler = preprocessing.StandardScaler().fit(train_x.to_numpy())\n",
    "scaler.transform(train_x)\n",
    "scaler.transform(test_x)"
   ]
  },
  {
   "cell_type": "code",
   "execution_count": null,
   "metadata": {
    "ExecuteTime": {
     "end_time": "2020-06-10T13:50:48.696706Z",
     "start_time": "2020-06-10T13:50:48.450477Z"
    }
   },
   "outputs": [],
   "source": [
    "# rvs1 = stats.norm.rvs(loc=5,scale=10,size=500)\n",
    "# rvs2 = stats.norm.rvs(loc=5,scale=10,size=500)\n",
    "# stats.ttest_ind(rvs1,rvs2)\n",
    "\n",
    "stats.ttest_ind(np.array(train_y),np.array(train_x.sqft_lot), equal_var = False)\n"
   ]
  },
  {
   "cell_type": "code",
   "execution_count": 18,
   "metadata": {
    "ExecuteTime": {
     "end_time": "2020-06-10T16:32:04.860888Z",
     "start_time": "2020-06-10T16:32:04.604395Z"
    }
   },
   "outputs": [],
   "source": [
    "from sklearn.decomposition import TruncatedSVD\n",
    "svd = TruncatedSVD(n_components= 15, n_iter=14, random_state=42)\n",
    "train_xx = svd.fit_transform(train_x)\n",
    "# print(len(p))"
   ]
  },
  {
   "cell_type": "code",
   "execution_count": 26,
   "metadata": {
    "ExecuteTime": {
     "end_time": "2020-06-10T16:35:04.196047Z",
     "start_time": "2020-06-10T16:35:04.184050Z"
    }
   },
   "outputs": [],
   "source": [
    "x_train, x_validation, y_train, y_validation = train_test_split(train_xx, train_y, test_size=0.1, random_state=42)\n"
   ]
  },
  {
   "cell_type": "code",
   "execution_count": null,
   "metadata": {
    "ExecuteTime": {
     "end_time": "2020-06-10T11:42:21.693977Z",
     "start_time": "2020-06-10T11:42:21.489005Z"
    }
   },
   "outputs": [],
   "source": [
    "lim = []\n",
    "for feat in x_train.columns.to_numpy():\n",
    "    model1 = LinearRegression(fit_intercept=True)\n",
    "    model1.fit(np.array(np.matrix(x_train[ feat ].to_numpy()).T),y_train.to_numpy())\n",
    "    print(model1.coef_)\n",
    "    Y_pred = model1.predict(np.array(np.matrix(x_validation[ feat ].to_numpy()).T))\n",
    "    a=mean_squared_error(y_validation.to_numpy(),Y_pred)\n",
    "    lim.append(a)\n",
    "plt.close()\n",
    "plt.plot(np.arange(len(x_train.columns.to_numpy())),lim)\n",
    "plt.show()\n",
    "print(x_train.columns.to_numpy())\n",
    "    \n",
    "print(np.argmin(lim))\n",
    "print(lim[3])"
   ]
  },
  {
   "cell_type": "code",
   "execution_count": 27,
   "metadata": {
    "ExecuteTime": {
     "end_time": "2020-06-10T16:35:08.160332Z",
     "start_time": "2020-06-10T16:35:07.339691Z"
    }
   },
   "outputs": [
    {
     "name": "stdout",
     "output_type": "stream",
     "text": [
      "216562.32325226904 221723.6831297039\n",
      "207612.93939629936 189462.69358644728\n",
      "319215.3268034973 186962.41461703056\n"
     ]
    },
    {
     "data": {
      "image/png": "[encoded data removed]",
      "text/plain": [
       "<Figure size 432x288 with 1 Axes>"
      ]
     },
     "metadata": {
      "needs_background": "light"
     },
     "output_type": "display_data"
    },
    {
     "name": "stdout",
     "output_type": "stream",
     "text": [
      "319215.3268034973\n"
     ]
    }
   ],
   "source": [
    "np.random.seed(0)\n",
    "a = []\n",
    "b = []\n",
    "c = []\n",
    "\n",
    "for i in [ 1,2,3] :\n",
    "    \n",
    "\n",
    "    polynomial_features= PolynomialFeatures(degree=i, interaction_only = True)\n",
    "    x_train_poly = polynomial_features.fit_transform(x_train)\n",
    "    x_validation_poly = polynomial_features.fit_transform(x_validation)\n",
    "#     x_train_poly = x_train#[:1000]\n",
    "#     x_validation_poly = x_validation#[:500]\n",
    "#     print(\"e23\",len(x_validation_poly[0]))\n",
    "\n",
    "    model = LinearRegression()\n",
    "    model.fit(x_train_poly, y_train)\n",
    "    y_poly_pred = model.predict(x_validation_poly)\n",
    "    y_poly_pred_train = model.predict(x_train_poly)\n",
    "    rm = np.sqrt(mean_squared_error(y_train,y_poly_pred_train))\n",
    "    rmse = np.sqrt(mean_squared_error(y_validation,y_poly_pred))\n",
    "#     rm = r2_score(y_train[:1000],y_poly_pred_train)\n",
    "#     rmse = r2_score(y_validation[:500],y_poly_pred)\n",
    "    print(rmse, rm)\n",
    "    a.append(i)\n",
    "    b.append(rmse)\n",
    "    c.append(rm)\n",
    "plt.plot(a,b, label = \"validate\")\n",
    "plt.plot(a,c, label = \" train\")\n",
    "plt.legend()\n",
    "plt.show()\n",
    "#     r2 = r2_score(y,y_poly_pred)\n",
    "print(rmse)\n",
    "# print(r2)"
   ]
  },
  {
   "cell_type": "code",
   "execution_count": null,
   "metadata": {},
   "outputs": [],
   "source": [
    "print(h,i.coef_)"
   ]
  },
  {
   "cell_type": "markdown",
   "metadata": {},
   "source": [
    "####################coefficient profiles ################################"
   ]
  }
 ],
 "metadata": {
  "kernelspec": {
   "display_name": "Python 3",
   "language": "python",
   "name": "python3"
  },
  "language_info": {
   "codemirror_mode": {
    "name": "ipython",
    "version": 3
   },
   "file_extension": ".py",
   "mimetype": "text/x-python",
   "name": "python",
   "nbconvert_exporter": "python",
   "pygments_lexer": "ipython3",
   "version": "3.7.4"
  },
  "toc": {
   "base_numbering": 1,
   "nav_menu": {},
   "number_sections": true,
   "sideBar": true,
   "skip_h1_title": false,
   "title_cell": "Table of Contents",
   "title_sidebar": "Contents",
   "toc_cell": false,
   "toc_position": {},
   "toc_section_display": true,
   "toc_window_display": false
  },
  "varInspector": {
   "cols": {
    "lenName": 16,
    "lenType": 16,
    "lenVar": 40
   },
   "kernels_config": {
    "python": {
     "delete_cmd_postfix": "",
     "delete_cmd_prefix": "del ",
     "library": "var_list.py",
     "varRefreshCmd": "print(var_dic_list())"
    },
    "r": {
     "delete_cmd_postfix": ") ",
     "delete_cmd_prefix": "rm(",
     "library": "var_list.r",
     "varRefreshCmd": "cat(var_dic_list()) "
    }
   },
   "types_to_exclude": [
    "module",
    "function",
    "builtin_function_or_method",
    "instance",
    "_Feature"
   ],
   "window_display": false
  }
 },
 "nbformat": 4,
 "nbformat_minor": 4
}
