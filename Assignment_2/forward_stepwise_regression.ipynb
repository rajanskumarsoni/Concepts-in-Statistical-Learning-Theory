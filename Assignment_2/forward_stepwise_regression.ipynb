{
 "cells": [
  {
   "cell_type": "markdown",
   "metadata": {},
   "source": [
    "Find the description here:  https://gerardnico.com/data_mining/stepwise_regression"
   ]
  },
  {
   "cell_type": "code",
   "execution_count": 3,
   "metadata": {
    "ExecuteTime": {
     "end_time": "2020-06-11T14:25:55.381128Z",
     "start_time": "2020-06-11T14:25:55.374362Z"
    }
   },
   "outputs": [],
   "source": [
    "import pandas as pd\n",
    "import numpy as np\n",
    "import matplotlib.pyplot as plt\n",
    "from datetime import datetime\n",
    "from scipy import stats\n",
    "from sklearn.metrics import r2_score\n",
    "from sklearn.linear_model import LinearRegression\n",
    "from sklearn.model_selection import train_test_split\n",
    "from sklearn.metrics import mean_squared_error\n",
    "from sklearn.metrics import accuracy_score\n",
    "def convertime(datetime_str):\n",
    "    return datetime.strptime(datetime_str, \"%Y%m%dT000000\").timestamp()"
   ]
  },
  {
   "cell_type": "markdown",
   "metadata": {},
   "source": [
    "Exploration of train dataset"
   ]
  },
  {
   "cell_type": "code",
   "execution_count": 4,
   "metadata": {
    "ExecuteTime": {
     "end_time": "2020-06-11T14:25:57.477688Z",
     "start_time": "2020-06-11T14:25:57.418845Z"
    }
   },
   "outputs": [
    {
     "data": {
      "text/html": [
       "<div>\n",
       "<style scoped>\n",
       "    .dataframe tbody tr th:only-of-type {\n",
       "        vertical-align: middle;\n",
       "    }\n",
       "\n",
       "    .dataframe tbody tr th {\n",
       "        vertical-align: top;\n",
       "    }\n",
       "\n",
       "    .dataframe thead th {\n",
       "        text-align: right;\n",
       "    }\n",
       "</style>\n",
       "<table border=\"1\" class=\"dataframe\">\n",
       "  <thead>\n",
       "    <tr style=\"text-align: right;\">\n",
       "      <th></th>\n",
       "      <th>id</th>\n",
       "      <th>date</th>\n",
       "      <th>price</th>\n",
       "      <th>bedrooms</th>\n",
       "      <th>bathrooms</th>\n",
       "      <th>sqft_living</th>\n",
       "      <th>sqft_lot</th>\n",
       "      <th>floors</th>\n",
       "      <th>waterfront</th>\n",
       "      <th>view</th>\n",
       "      <th>...</th>\n",
       "      <th>grade</th>\n",
       "      <th>sqft_above</th>\n",
       "      <th>sqft_basement</th>\n",
       "      <th>yr_built</th>\n",
       "      <th>yr_renovated</th>\n",
       "      <th>zipcode</th>\n",
       "      <th>lat</th>\n",
       "      <th>long</th>\n",
       "      <th>sqft_living15</th>\n",
       "      <th>sqft_lot15</th>\n",
       "    </tr>\n",
       "  </thead>\n",
       "  <tbody>\n",
       "    <tr>\n",
       "      <th>0</th>\n",
       "      <td>7129300520</td>\n",
       "      <td>20141013T000000</td>\n",
       "      <td>221900.0</td>\n",
       "      <td>3</td>\n",
       "      <td>1.00</td>\n",
       "      <td>1180</td>\n",
       "      <td>5650</td>\n",
       "      <td>1.0</td>\n",
       "      <td>0</td>\n",
       "      <td>0</td>\n",
       "      <td>...</td>\n",
       "      <td>7</td>\n",
       "      <td>1180</td>\n",
       "      <td>0</td>\n",
       "      <td>1955</td>\n",
       "      <td>0</td>\n",
       "      <td>98178</td>\n",
       "      <td>47.5112</td>\n",
       "      <td>-122.257</td>\n",
       "      <td>1340</td>\n",
       "      <td>5650</td>\n",
       "    </tr>\n",
       "    <tr>\n",
       "      <th>1</th>\n",
       "      <td>6414100192</td>\n",
       "      <td>20141209T000000</td>\n",
       "      <td>538000.0</td>\n",
       "      <td>3</td>\n",
       "      <td>2.25</td>\n",
       "      <td>2570</td>\n",
       "      <td>7242</td>\n",
       "      <td>2.0</td>\n",
       "      <td>0</td>\n",
       "      <td>0</td>\n",
       "      <td>...</td>\n",
       "      <td>7</td>\n",
       "      <td>2170</td>\n",
       "      <td>400</td>\n",
       "      <td>1951</td>\n",
       "      <td>1991</td>\n",
       "      <td>98125</td>\n",
       "      <td>47.7210</td>\n",
       "      <td>-122.319</td>\n",
       "      <td>1690</td>\n",
       "      <td>7639</td>\n",
       "    </tr>\n",
       "    <tr>\n",
       "      <th>2</th>\n",
       "      <td>5631500400</td>\n",
       "      <td>20150225T000000</td>\n",
       "      <td>180000.0</td>\n",
       "      <td>2</td>\n",
       "      <td>1.00</td>\n",
       "      <td>770</td>\n",
       "      <td>10000</td>\n",
       "      <td>1.0</td>\n",
       "      <td>0</td>\n",
       "      <td>0</td>\n",
       "      <td>...</td>\n",
       "      <td>6</td>\n",
       "      <td>770</td>\n",
       "      <td>0</td>\n",
       "      <td>1933</td>\n",
       "      <td>0</td>\n",
       "      <td>98028</td>\n",
       "      <td>47.7379</td>\n",
       "      <td>-122.233</td>\n",
       "      <td>2720</td>\n",
       "      <td>8062</td>\n",
       "    </tr>\n",
       "    <tr>\n",
       "      <th>3</th>\n",
       "      <td>2487200875</td>\n",
       "      <td>20141209T000000</td>\n",
       "      <td>604000.0</td>\n",
       "      <td>4</td>\n",
       "      <td>3.00</td>\n",
       "      <td>1960</td>\n",
       "      <td>5000</td>\n",
       "      <td>1.0</td>\n",
       "      <td>0</td>\n",
       "      <td>0</td>\n",
       "      <td>...</td>\n",
       "      <td>7</td>\n",
       "      <td>1050</td>\n",
       "      <td>910</td>\n",
       "      <td>1965</td>\n",
       "      <td>0</td>\n",
       "      <td>98136</td>\n",
       "      <td>47.5208</td>\n",
       "      <td>-122.393</td>\n",
       "      <td>1360</td>\n",
       "      <td>5000</td>\n",
       "    </tr>\n",
       "    <tr>\n",
       "      <th>4</th>\n",
       "      <td>1954400510</td>\n",
       "      <td>20150218T000000</td>\n",
       "      <td>510000.0</td>\n",
       "      <td>3</td>\n",
       "      <td>2.00</td>\n",
       "      <td>1680</td>\n",
       "      <td>8080</td>\n",
       "      <td>1.0</td>\n",
       "      <td>0</td>\n",
       "      <td>0</td>\n",
       "      <td>...</td>\n",
       "      <td>8</td>\n",
       "      <td>1680</td>\n",
       "      <td>0</td>\n",
       "      <td>1987</td>\n",
       "      <td>0</td>\n",
       "      <td>98074</td>\n",
       "      <td>47.6168</td>\n",
       "      <td>-122.045</td>\n",
       "      <td>1800</td>\n",
       "      <td>7503</td>\n",
       "    </tr>\n",
       "  </tbody>\n",
       "</table>\n",
       "<p>5 rows × 21 columns</p>\n",
       "</div>"
      ],
      "text/plain": [
       "           id             date     price  bedrooms  bathrooms  sqft_living  \\\n",
       "0  7129300520  20141013T000000  221900.0         3       1.00         1180   \n",
       "1  6414100192  20141209T000000  538000.0         3       2.25         2570   \n",
       "2  5631500400  20150225T000000  180000.0         2       1.00          770   \n",
       "3  2487200875  20141209T000000  604000.0         4       3.00         1960   \n",
       "4  1954400510  20150218T000000  510000.0         3       2.00         1680   \n",
       "\n",
       "   sqft_lot  floors  waterfront  view  ...  grade  sqft_above  sqft_basement  \\\n",
       "0      5650     1.0           0     0  ...      7        1180              0   \n",
       "1      7242     2.0           0     0  ...      7        2170            400   \n",
       "2     10000     1.0           0     0  ...      6         770              0   \n",
       "3      5000     1.0           0     0  ...      7        1050            910   \n",
       "4      8080     1.0           0     0  ...      8        1680              0   \n",
       "\n",
       "   yr_built  yr_renovated  zipcode      lat     long  sqft_living15  \\\n",
       "0      1955             0    98178  47.5112 -122.257           1340   \n",
       "1      1951          1991    98125  47.7210 -122.319           1690   \n",
       "2      1933             0    98028  47.7379 -122.233           2720   \n",
       "3      1965             0    98136  47.5208 -122.393           1360   \n",
       "4      1987             0    98074  47.6168 -122.045           1800   \n",
       "\n",
       "   sqft_lot15  \n",
       "0        5650  \n",
       "1        7639  \n",
       "2        8062  \n",
       "3        5000  \n",
       "4        7503  \n",
       "\n",
       "[5 rows x 21 columns]"
      ]
     },
     "execution_count": 4,
     "metadata": {},
     "output_type": "execute_result"
    }
   ],
   "source": [
    "train = pd.read_csv('kc_house_train_data.csv')\n",
    "train.head()"
   ]
  },
  {
   "cell_type": "code",
   "execution_count": 5,
   "metadata": {
    "ExecuteTime": {
     "end_time": "2020-06-11T14:25:59.882147Z",
     "start_time": "2020-06-11T14:25:59.831471Z"
    }
   },
   "outputs": [
    {
     "name": "stdout",
     "output_type": "stream",
     "text": [
      "feature  unique values\n",
      "id                   17273\n",
      "date                   368\n",
      "price                   3552\n",
      "bedrooms                   11\n",
      "bathrooms                   29\n",
      "sqft_living                   957\n",
      "sqft_lot                   8439\n",
      "floors                   6\n",
      "waterfront                   2\n",
      "view                   5\n",
      "condition                   5\n",
      "grade                   12\n",
      "sqft_above                   869\n",
      "sqft_basement                   295\n",
      "yr_built                   116\n",
      "yr_renovated                   70\n",
      "zipcode                   70\n",
      "lat                   4864\n",
      "long                   729\n",
      "sqft_living15                   717\n",
      "sqft_lot15                   7571\n",
      "date                   368\n"
     ]
    }
   ],
   "source": [
    "print(\"feature\",\" unique values\")\n",
    "for feature in train.columns:\n",
    "   \n",
    "\n",
    "    print(feature,\"                 \",train[feature].value_counts().count())\n",
    "print(\"date\",\"                 \",train['date'].value_counts().count())"
   ]
  },
  {
   "cell_type": "code",
   "execution_count": 6,
   "metadata": {
    "ExecuteTime": {
     "end_time": "2020-06-11T14:26:02.844103Z",
     "start_time": "2020-06-11T14:26:02.594576Z"
    }
   },
   "outputs": [],
   "source": [
    "train['date'] = train['date'].apply(convertime)\n",
    "train = train.drop(columns=['id'])\n",
    "train_x = train.drop(columns=['price'])\n",
    "train_y = train.price"
   ]
  },
  {
   "cell_type": "markdown",
   "metadata": {},
   "source": [
    "Exploration for test dataset"
   ]
  },
  {
   "cell_type": "code",
   "execution_count": 7,
   "metadata": {
    "ExecuteTime": {
     "end_time": "2020-06-11T14:26:04.797852Z",
     "start_time": "2020-06-11T14:26:04.729910Z"
    }
   },
   "outputs": [],
   "source": [
    "test = pd.read_csv('kc_house_test_data.csv')\n",
    "test.head()\n",
    "test['date'] = test['date'].apply(convertime)"
   ]
  },
  {
   "cell_type": "code",
   "execution_count": 8,
   "metadata": {
    "ExecuteTime": {
     "end_time": "2020-06-11T14:26:07.190063Z",
     "start_time": "2020-06-11T14:26:07.183645Z"
    }
   },
   "outputs": [],
   "source": [
    "test = test.drop(columns=['id'])\n",
    "test_x = test.drop(columns=['price'])\n",
    "test_y = test.price"
   ]
  },
  {
   "cell_type": "code",
   "execution_count": 9,
   "metadata": {
    "ExecuteTime": {
     "end_time": "2020-06-11T14:26:09.325135Z",
     "start_time": "2020-06-11T14:26:09.322206Z"
    }
   },
   "outputs": [],
   "source": [
    "test_y.shape\n",
    "x_test = test_x\n",
    "y_test=test_y"
   ]
  },
  {
   "cell_type": "code",
   "execution_count": 10,
   "metadata": {
    "ExecuteTime": {
     "end_time": "2020-06-11T14:26:12.360656Z",
     "start_time": "2020-06-11T14:26:12.334690Z"
    }
   },
   "outputs": [
    {
     "data": {
      "text/plain": [
       "array([[-1.36609463, -0.40748647, -1.44481169, ..., -0.11155904,\n",
       "        -0.30006856, -0.0029211 ],\n",
       "       [ 0.76862898,  0.69572873,  1.14666648, ..., -1.147741  ,\n",
       "         0.22433584, -0.32295851],\n",
       "       [ 0.04229149, -0.40748647, -0.14907261, ..., -0.03349053,\n",
       "        -1.39257774, -0.29701549],\n",
       "       ...,\n",
       "       [-0.134864  ,  0.69572873,  0.49879694, ...,  0.32846344,\n",
       "         0.77787382, -0.24851494],\n",
       "       [ 1.03436221,  0.69572873,  0.49879694, ..., -1.05547822,\n",
       "        -0.22723462, -0.20520299],\n",
       "       [-1.13579249, -1.51070166, -1.76874647, ..., -0.60835861,\n",
       "        -1.40714453, -0.39629811]])"
      ]
     },
     "execution_count": 10,
     "metadata": {},
     "output_type": "execute_result"
    }
   ],
   "source": [
    "from sklearn import preprocessing\n",
    "scaler = preprocessing.StandardScaler().fit(train_x.to_numpy())\n",
    "scaler.transform(train_x)\n",
    "scaler.transform(test_x)"
   ]
  },
  {
   "cell_type": "code",
   "execution_count": 15,
   "metadata": {},
   "outputs": [
    {
     "data": {
      "text/plain": [
       "Ttest_indResult(statistic=185.81498191246325, pvalue=0.0)"
      ]
     },
     "execution_count": 15,
     "metadata": {},
     "output_type": "execute_result"
    }
   ],
   "source": [
    "# rvs1 = stats.norm.rvs(loc=5,scale=10,size=500)\n",
    "# rvs2 = stats.norm.rvs(loc=5,scale=10,size=500)\n",
    "# stats.ttest_ind(rvs1,rvs2)\n",
    "\n",
    "stats.ttest_ind(np.array(train_y),np.array(train_x.sqft_lot), equal_var = False)\n"
   ]
  },
  {
   "cell_type": "code",
   "execution_count": 11,
   "metadata": {
    "ExecuteTime": {
     "end_time": "2020-06-11T14:26:16.465076Z",
     "start_time": "2020-06-11T14:26:16.456358Z"
    }
   },
   "outputs": [],
   "source": [
    "x_train, x_validation, y_train, y_validation = train_test_split(train_x, train_y, test_size=0.33, random_state=42)\n"
   ]
  },
  {
   "cell_type": "code",
   "execution_count": 19,
   "metadata": {},
   "outputs": [
    {
     "name": "stdout",
     "output_type": "stream",
     "text": [
      "[5.53059224e-06]\n",
      "[130548.78774384]\n",
      "[256110.02412522]\n",
      "[288.29963871]\n",
      "[0.77353379]\n",
      "[173368.65132883]\n",
      "[1207388.9196328]\n",
      "[195264.30515522]\n",
      "[19452.61825618]\n",
      "[213471.87759523]\n",
      "[276.59791726]\n",
      "[285.15557357]\n",
      "[612.39827566]\n",
      "[119.8539755]\n",
      "[-409.99188043]\n",
      "[812632.2586179]\n",
      "[55325.27745603]\n",
      "[319.06082969]\n",
      "[1.07851916]\n"
     ]
    },
    {
     "data": {
      "image/png": "[encoded data removed]",
      "text/plain": [
       "<Figure size 432x288 with 1 Axes>"
      ]
     },
     "metadata": {
      "needs_background": "light"
     },
     "output_type": "display_data"
    },
    {
     "name": "stdout",
     "output_type": "stream",
     "text": [
      "['date' 'bedrooms' 'bathrooms' 'sqft_living' 'sqft_lot' 'floors'\n",
      " 'waterfront' 'view' 'condition' 'grade' 'sqft_above' 'sqft_basement'\n",
      " 'yr_built' 'yr_renovated' 'zipcode' 'lat' 'long' 'sqft_living15'\n",
      " 'sqft_lot15']\n",
      "3\n",
      "60775102542.15675\n"
     ]
    }
   ],
   "source": [
    "lim = []\n",
    "for feat in x_train.columns.to_numpy():\n",
    "    model1 = LinearRegression(fit_intercept=True)\n",
    "    model1.fit(np.array(np.matrix(x_train[ feat ].to_numpy()).T),y_train.to_numpy())\n",
    "    print(model1.coef_)\n",
    "    Y_pred = model1.predict(np.array(np.matrix(x_validation[ feat ].to_numpy()).T))\n",
    "    a=mean_squared_error(y_validation.to_numpy(),Y_pred)\n",
    "    lim.append(a)\n",
    "plt.close()\n",
    "plt.plot(np.arange(len(x_train.columns.to_numpy())),lim)\n",
    "plt.show()\n",
    "print(x_train.columns.to_numpy())\n",
    "    \n",
    "print(np.argmin(lim))\n",
    "print(lim[3])"
   ]
  },
  {
   "cell_type": "code",
   "execution_count": 34,
   "metadata": {
    "ExecuteTime": {
     "end_time": "2020-06-11T17:33:16.055103Z",
     "start_time": "2020-06-11T17:33:16.033521Z"
    }
   },
   "outputs": [],
   "source": [
    "\n",
    "def model_train(train_x,validation_x,test_x, train_y,  validation_y, test_y):\n",
    "#     param_dict= dict.fromkeys(train_x.columns.to_numpy(), 0)\n",
    "#     param_dict['intercept'] = train_y.mean()\n",
    "    number_of_features = (train_x.iloc[0].size)\n",
    "    number_of_samples =  train_x['bedrooms'].size\n",
    "    feature_weight_list = []\n",
    "    for i in range(20):\n",
    "        feature_weight_list.append([[],[]])\n",
    "    keys = train_x.columns.to_numpy()\n",
    "    values = np.arange(19)\n",
    "    feature_dict = {keys[i]: values[i] for i in range(len(keys))} \n",
    "    inv_dict = {v: k for k, v in feature_dict.items()} \n",
    "\n",
    "    feature = []\n",
    "\n",
    "\n",
    "    over_all_score = 100000000000000000\n",
    "    feature_set = train_x.columns.tolist()\n",
    "#     print(\"wedwe\",(feature_set))\n",
    "    train_errors = []\n",
    "    validation_errors = []\n",
    "    test_errors = []\n",
    "    residual = train_y.to_numpy()-np.ones(number_of_samples)*train_y.mean()\n",
    "#     print(len(residual))\n",
    "    p = np.dot(residual,residual)/number_of_samples\n",
    "    validation_errors.append(p)\n",
    "    train_errors.append(p)\n",
    "    test_errors.append(p)\n",
    "    \n",
    "    \n",
    "    model_features = []\n",
    "    lets_count = 0\n",
    "    while True:\n",
    "        lets_count +=1\n",
    "        \n",
    "#         print(type(feature_set))\n",
    "#         print(len(feature_set))\n",
    "        if len(feature_set)==0:\n",
    "            model_features, best_model, validation_errors,train_errors, test_errors, feature_weight_list, inv_dict, model_features, best_model\n",
    "#         scores = []\n",
    "#         models = []\n",
    "        \n",
    "        \n",
    "        best_score = 10000000000000000\n",
    "        best_feature = 'dwdqdqw'\n",
    "        for feature in feature_set:\n",
    "            features_to_train = model_features.copy()\n",
    "            features_to_train.append(feature)\n",
    "            model1 = LinearRegression(fit_intercept=True)\n",
    "#             print(\"length\",len(residual))\n",
    "            model1.fit(np.array(np.matrix(train_x.loc[ : , features_to_train ].to_numpy())),train_y.to_numpy())\n",
    "            Y_pred = model1.predict(np.array(np.matrix(validation_x.loc[ : , features_to_train ].to_numpy())))\n",
    "            y_train_pred = model1.predict(np.array(np.matrix(train_x.loc[ : , features_to_train ].to_numpy())))\n",
    "            y_test_pred = model1.predict(np.array(np.matrix(test_x.loc[ : , features_to_train ].to_numpy())))\n",
    "#             models.append(model1)\n",
    "            a=mean_squared_error(validation_y.to_numpy(),Y_pred)\n",
    "            b = mean_squared_error(train_y.to_numpy(),y_train_pred)\n",
    "            c = mean_squared_error(test_y.to_numpy(),y_test_pred)\n",
    "#             scores.append(a)\n",
    "            if best_score>a:\n",
    "                best_score = a\n",
    "                best_score_train = b\n",
    "                best_score_test = c\n",
    "                best_model = model1\n",
    "                best_feature = feature\n",
    "                best_feature_set = features_to_train\n",
    "\n",
    "#         print(\"score\", scores)\n",
    "#         print(best_model.coef_)\n",
    "        if best_score !=10000000000000000:\n",
    "            validation_errors.append(best_score)\n",
    "            train_errors.append(best_score_train)\n",
    "            test_errors.append(best_score_test)\n",
    "            for ft,u in zip(best_feature_set,best_model.coef_):\n",
    "                p = feature_weight_list[feature_dict[ft]]\n",
    "# lists\n",
    "                p[0].append(lets_count)\n",
    "                p[1].append(u)\n",
    "                \n",
    "            \n",
    "            \n",
    "#         print(\"best_score\", best_score)\n",
    "        if (over_all_score - best_score)<.0005 :\n",
    "             return model_features, best_model, validation_errors,train_errors, test_errors, feature_weight_list, inv_dict, model_features, best_model\n",
    "        over_all_score = best_score\n",
    "        \n",
    "        feature_set.remove(best_feature)\n",
    "#         print(\"best_feature\", best_feature)\n",
    "        model_features.append(best_feature)\n",
    "    return model_features, best_model,validation_errors,train_errors, test_errors, feature_weight_list, inv_dict, model_features, best_model\n",
    "            \n",
    "        "
   ]
  },
  {
   "cell_type": "code",
   "execution_count": 130,
   "metadata": {
    "ExecuteTime": {
     "end_time": "2020-06-11T18:21:13.231285Z",
     "start_time": "2020-06-11T18:21:11.598548Z"
    }
   },
   "outputs": [
    {
     "data": {
      "text/plain": [
       "<matplotlib.legend.Legend at 0x7fc0892bc210>"
      ]
     },
     "execution_count": 130,
     "metadata": {},
     "output_type": "execute_result"
    },
    {
     "data": {
      "image/png": "[encoded data removed]",
      "text/plain": [
       "<Figure size 432x288 with 1 Axes>"
      ]
     },
     "metadata": {
      "needs_background": "light"
     },
     "output_type": "display_data"
    }
   ],
   "source": [
    "from matplotlib.ticker import MaxNLocator\n",
    "ax = plt.figure().gca()\n",
    "a,b , c,d, e, f, g, h, i= model_train(x_train, x_validation,x_test, y_train, y_validation, y_test )\n",
    "# c = b.predict(test_x.to_numpy())\n",
    "# # print(test_y.to_numpy())\n",
    "# print(d)\n",
    "# print(mean_squared_error(test_y.to_numpy(),c))\n",
    "# k = np.arange(len(c))\n",
    "# yint = range(np.min(k), np.max(k)+1)\n",
    "# plt.yticks(yint)\n",
    "\n",
    "ax.plot(np.arange(len(c)), c, label =\"validation\")\n",
    "ax.plot(np.arange(len(d)), d, label = \"train\")\n",
    "ax.plot(np.arange(len(e)), e, label = \"test\")\n",
    "ax.xaxis.set_major_locator(MaxNLocator(integer=True))\n",
    "ax.legend()\n",
    "\n"
   ]
  },
  {
   "cell_type": "code",
   "execution_count": 131,
   "metadata": {
    "ExecuteTime": {
     "end_time": "2020-06-11T18:21:16.380273Z",
     "start_time": "2020-06-11T18:21:16.370495Z"
    }
   },
   "outputs": [
    {
     "name": "stdout",
     "output_type": "stream",
     "text": [
      "[9, 10, 11, 12, 13, 14, 15, 16, 17, 18, 19]\n",
      "[1.9906102075561238e-13, 12814857.174870213, 2007204.5174188607, 1180.149143023219, 3.402087441973952e-07, 3.113176953404575e-20, 2449435064.2008543, 1590707.3539078068, 7927752.248830902, 106366144.33602747, 0.0, 751.0886360716823, 24550.932560538276, 0.31786375239079184, 4647.3883405592005, 1778931809.6412208, 94573531.94766963, 0.8833045854932076, 0.0025799615990564685]\n"
     ]
    }
   ],
   "source": [
    "print(f[2][0])\n",
    "f = np.array(f)\n",
    "maxvar = []\n",
    "for i in range(19):\n",
    "    maxvar.append(np.var(f[i][1]))\n",
    "print(maxvar)"
   ]
  },
  {
   "cell_type": "markdown",
   "metadata": {},
   "source": [
    "####################coefficient profiles ################################"
   ]
  },
  {
   "cell_type": "code",
   "execution_count": 132,
   "metadata": {
    "ExecuteTime": {
     "end_time": "2020-06-11T18:21:18.779400Z",
     "start_time": "2020-06-11T18:21:18.261031Z"
    }
   },
   "outputs": [
    {
     "data": {
      "text/plain": [
       "Text(0, 0.5, 'root mean square error')"
      ]
     },
     "execution_count": 132,
     "metadata": {},
     "output_type": "execute_result"
    },
    {
     "data": {
      "image/png": "[encoded data removed]",
      "text/plain": [
       "<Figure size 1440x720 with 1 Axes>"
      ]
     },
     "metadata": {
      "needs_background": "light"
     },
     "output_type": "display_data"
    }
   ],
   "source": [
    "\n",
    "varind = np.array(maxvar).argsort()[-5:][::-1]\n",
    "\n",
    "ax = plt.figure(figsize =(20,10)).gca()\n",
    "count = 0\n",
    "for i in varind:\n",
    "#     print(len(f[i][1]))\n",
    "    m = min(f[i][0])\n",
    "#     print(m)\n",
    "    f[i][0].insert(0,m-1)\n",
    "    f[i][1].insert(0,0)\n",
    "    ax.plot(f[i][0], f[i][1], label = g[i])\n",
    "\n",
    "    \n",
    "\n",
    "\n",
    "# Put a legend to the right of the current axis\n",
    "\n",
    "    ax.annotate( g[i], xy=(f[i][0][count], f[i][1][count]), xytext=(f[i][0][count],f[i][1][count]+i*20000 ),size=20,\n",
    "            arrowprops=dict(facecolor='black', shrink=0.05),\n",
    "            )\n",
    "    count +=1\n",
    "ax.xaxis.set_major_locator(MaxNLocator(integer=True)) \n",
    "ax.plot(range(19), np.zeros(19), color='green', linestyle='dashed',linewidth=2, markersize=12)\n",
    "ax.legend(loc='center left', bbox_to_anchor=(1, 0.5), prop={'size': 20})\n",
    "for tick in ax.xaxis.get_major_ticks():\n",
    "                tick.label.set_fontsize(20) \n",
    "for tick in ax.yaxis.get_major_ticks():\n",
    "                tick.label.set_fontsize(20) \n",
    "plt.xlabel('feature set', fontsize=25)\n",
    "plt.ylabel('root mean square error', fontsize=25)\n",
    "# plt.legend()\n",
    "# plt.show()"
   ]
  }
 ],
 "metadata": {
  "kernelspec": {
   "display_name": "Python 3",
   "language": "python",
   "name": "python3"
  },
  "language_info": {
   "codemirror_mode": {
    "name": "ipython",
    "version": 3
   },
   "file_extension": ".py",
   "mimetype": "text/x-python",
   "name": "python",
   "nbconvert_exporter": "python",
   "pygments_lexer": "ipython3",
   "version": "3.7.4"
  },
  "toc": {
   "base_numbering": 1,
   "nav_menu": {},
   "number_sections": true,
   "sideBar": true,
   "skip_h1_title": false,
   "title_cell": "Table of Contents",
   "title_sidebar": "Contents",
   "toc_cell": false,
   "toc_position": {},
   "toc_section_display": true,
   "toc_window_display": false
  },
  "varInspector": {
   "cols": {
    "lenName": 16,
    "lenType": 16,
    "lenVar": 40
   },
   "kernels_config": {
    "python": {
     "delete_cmd_postfix": "",
     "delete_cmd_prefix": "del ",
     "library": "var_list.py",
     "varRefreshCmd": "print(var_dic_list())"
    },
    "r": {
     "delete_cmd_postfix": ") ",
     "delete_cmd_prefix": "rm(",
     "library": "var_list.r",
     "varRefreshCmd": "cat(var_dic_list()) "
    }
   },
   "types_to_exclude": [
    "module",
    "function",
    "builtin_function_or_method",
    "instance",
    "_Feature"
   ],
   "window_display": false
  }
 },
 "nbformat": 4,
 "nbformat_minor": 4
}
